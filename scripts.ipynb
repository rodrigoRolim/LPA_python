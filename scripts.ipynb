{
 "cells": [
  {
   "cell_type": "markdown",
   "metadata": {},
   "source": [
    "# 1. Análise exploratória de dados\n"
   ]
  },
  {
   "cell_type": "markdown",
   "metadata": {},
   "source": [
    "#### a. Carregue a base de dados media_precos_carros_brasil.csv"
   ]
  },
  {
   "cell_type": "code",
   "execution_count": 166,
   "metadata": {},
   "outputs": [],
   "source": [
    "# importando bibliotecas necessárias\n",
    "import pandas as pd\n",
    "import matplotlib.pyplot as plt\n",
    "import seaborn as sns\n",
    "import warnings\n",
    "from sklearn.preprocessing import LabelEncoder\n",
    "from sklearn.model_selection import train_test_split\n",
    "from sklearn.ensemble import RandomForestRegressor\n",
    "from xgboost import XGBRegressor\n",
    "\n",
    "# Métricas de avaliação dos modelos\n",
    "from sklearn.metrics import mean_squared_error, mean_absolute_error, r2_score\n",
    "warnings.filterwarnings('ignore')"
   ]
  },
  {
   "cell_type": "code",
   "execution_count": 167,
   "metadata": {},
   "outputs": [],
   "source": [
    "# Carregando dados do arquivo precos_carros_brasil\n",
    "dados = pd.read_csv('precos_carros_brasil.csv')"
   ]
  },
  {
   "cell_type": "code",
   "execution_count": 168,
   "metadata": {},
   "outputs": [
    {
     "data": {
      "text/plain": [
       "Index(['year_of_reference', 'month_of_reference', 'fipe_code',\n",
       "       'authentication', 'brand', 'model', 'fuel', 'gear', 'engine_size',\n",
       "       'year_model', 'avg_price_brl'],\n",
       "      dtype='object')"
      ]
     },
     "execution_count": 168,
     "metadata": {},
     "output_type": "execute_result"
    }
   ],
   "source": [
    "# Listando o nome das colunas\n",
    "dados.columns"
   ]
  },
  {
   "cell_type": "code",
   "execution_count": 169,
   "metadata": {},
   "outputs": [
    {
     "data": {
      "text/html": [
       "<div>\n",
       "<style scoped>\n",
       "    .dataframe tbody tr th:only-of-type {\n",
       "        vertical-align: middle;\n",
       "    }\n",
       "\n",
       "    .dataframe tbody tr th {\n",
       "        vertical-align: top;\n",
       "    }\n",
       "\n",
       "    .dataframe thead th {\n",
       "        text-align: right;\n",
       "    }\n",
       "</style>\n",
       "<table border=\"1\" class=\"dataframe\">\n",
       "  <thead>\n",
       "    <tr style=\"text-align: right;\">\n",
       "      <th></th>\n",
       "      <th>year_of_reference</th>\n",
       "      <th>month_of_reference</th>\n",
       "      <th>fipe_code</th>\n",
       "      <th>authentication</th>\n",
       "      <th>brand</th>\n",
       "      <th>model</th>\n",
       "      <th>fuel</th>\n",
       "      <th>gear</th>\n",
       "      <th>engine_size</th>\n",
       "      <th>year_model</th>\n",
       "      <th>avg_price_brl</th>\n",
       "    </tr>\n",
       "  </thead>\n",
       "  <tbody>\n",
       "    <tr>\n",
       "      <th>0</th>\n",
       "      <td>2021.0</td>\n",
       "      <td>January</td>\n",
       "      <td>004001-0</td>\n",
       "      <td>cfzlctzfwrcp</td>\n",
       "      <td>GM - Chevrolet</td>\n",
       "      <td>Corsa Wind 1.0 MPFI / EFI 2p</td>\n",
       "      <td>Gasoline</td>\n",
       "      <td>manual</td>\n",
       "      <td>1</td>\n",
       "      <td>2002.0</td>\n",
       "      <td>9162.0</td>\n",
       "    </tr>\n",
       "    <tr>\n",
       "      <th>1</th>\n",
       "      <td>2021.0</td>\n",
       "      <td>January</td>\n",
       "      <td>004001-0</td>\n",
       "      <td>cdqwxwpw3y2p</td>\n",
       "      <td>GM - Chevrolet</td>\n",
       "      <td>Corsa Wind 1.0 MPFI / EFI 2p</td>\n",
       "      <td>Gasoline</td>\n",
       "      <td>manual</td>\n",
       "      <td>1</td>\n",
       "      <td>2001.0</td>\n",
       "      <td>8832.0</td>\n",
       "    </tr>\n",
       "    <tr>\n",
       "      <th>2</th>\n",
       "      <td>2021.0</td>\n",
       "      <td>January</td>\n",
       "      <td>004001-0</td>\n",
       "      <td>cb1t3xwwj1xp</td>\n",
       "      <td>GM - Chevrolet</td>\n",
       "      <td>Corsa Wind 1.0 MPFI / EFI 2p</td>\n",
       "      <td>Gasoline</td>\n",
       "      <td>manual</td>\n",
       "      <td>1</td>\n",
       "      <td>2000.0</td>\n",
       "      <td>8388.0</td>\n",
       "    </tr>\n",
       "    <tr>\n",
       "      <th>3</th>\n",
       "      <td>2021.0</td>\n",
       "      <td>January</td>\n",
       "      <td>004001-0</td>\n",
       "      <td>cb9gct6j65r0</td>\n",
       "      <td>GM - Chevrolet</td>\n",
       "      <td>Corsa Wind 1.0 MPFI / EFI 2p</td>\n",
       "      <td>Alcohol</td>\n",
       "      <td>manual</td>\n",
       "      <td>1</td>\n",
       "      <td>2000.0</td>\n",
       "      <td>8453.0</td>\n",
       "    </tr>\n",
       "    <tr>\n",
       "      <th>4</th>\n",
       "      <td>2021.0</td>\n",
       "      <td>January</td>\n",
       "      <td>004003-7</td>\n",
       "      <td>g15wg0gbz1fx</td>\n",
       "      <td>GM - Chevrolet</td>\n",
       "      <td>Corsa Pick-Up GL/ Champ 1.6 MPFI / EFI</td>\n",
       "      <td>Gasoline</td>\n",
       "      <td>manual</td>\n",
       "      <td>1,6</td>\n",
       "      <td>2001.0</td>\n",
       "      <td>12525.0</td>\n",
       "    </tr>\n",
       "  </tbody>\n",
       "</table>\n",
       "</div>"
      ],
      "text/plain": [
       "   year_of_reference month_of_reference fipe_code authentication  \\\n",
       "0             2021.0            January  004001-0   cfzlctzfwrcp   \n",
       "1             2021.0            January  004001-0   cdqwxwpw3y2p   \n",
       "2             2021.0            January  004001-0   cb1t3xwwj1xp   \n",
       "3             2021.0            January  004001-0   cb9gct6j65r0   \n",
       "4             2021.0            January  004003-7   g15wg0gbz1fx   \n",
       "\n",
       "            brand                                   model      fuel    gear  \\\n",
       "0  GM - Chevrolet            Corsa Wind 1.0 MPFI / EFI 2p  Gasoline  manual   \n",
       "1  GM - Chevrolet            Corsa Wind 1.0 MPFI / EFI 2p  Gasoline  manual   \n",
       "2  GM - Chevrolet            Corsa Wind 1.0 MPFI / EFI 2p  Gasoline  manual   \n",
       "3  GM - Chevrolet            Corsa Wind 1.0 MPFI / EFI 2p   Alcohol  manual   \n",
       "4  GM - Chevrolet  Corsa Pick-Up GL/ Champ 1.6 MPFI / EFI  Gasoline  manual   \n",
       "\n",
       "  engine_size  year_model  avg_price_brl  \n",
       "0           1      2002.0         9162.0  \n",
       "1           1      2001.0         8832.0  \n",
       "2           1      2000.0         8388.0  \n",
       "3           1      2000.0         8453.0  \n",
       "4         1,6      2001.0        12525.0  "
      ]
     },
     "execution_count": 169,
     "metadata": {},
     "output_type": "execute_result"
    }
   ],
   "source": [
    "# Imprimindo somente as cinco primeiras linhas\n",
    "dados.head()"
   ]
  },
  {
   "cell_type": "code",
   "execution_count": 170,
   "metadata": {},
   "outputs": [
    {
     "data": {
      "text/plain": [
       "year_of_reference     float64\n",
       "month_of_reference     object\n",
       "fipe_code              object\n",
       "authentication         object\n",
       "brand                  object\n",
       "model                  object\n",
       "fuel                   object\n",
       "gear                   object\n",
       "engine_size            object\n",
       "year_model            float64\n",
       "avg_price_brl         float64\n",
       "dtype: object"
      ]
     },
     "execution_count": 170,
     "metadata": {},
     "output_type": "execute_result"
    }
   ],
   "source": [
    "# Imprime o tipo de dado de cada coluna\n",
    "dados.dtypes"
   ]
  },
  {
   "cell_type": "code",
   "execution_count": 171,
   "metadata": {},
   "outputs": [
    {
     "data": {
      "text/plain": [
       "year_of_reference     float64\n",
       "month_of_reference     object\n",
       "fipe_code              object\n",
       "authentication         object\n",
       "brand                  object\n",
       "model                  object\n",
       "fuel                   object\n",
       "gear                   object\n",
       "engine_size            object\n",
       "year_model            float64\n",
       "avg_price_brl         float64\n",
       "dtype: object"
      ]
     },
     "execution_count": 171,
     "metadata": {},
     "output_type": "execute_result"
    }
   ],
   "source": [
    "# Imprimindo o tipo de dado de cada coluna após conversões\n",
    "dados.dtypes"
   ]
  },
  {
   "cell_type": "code",
   "execution_count": 172,
   "metadata": {},
   "outputs": [
    {
     "data": {
      "text/plain": [
       "(267542, 11)"
      ]
     },
     "execution_count": 172,
     "metadata": {},
     "output_type": "execute_result"
    }
   ],
   "source": [
    "# Número de linhas e colunas\n",
    "dados.shape"
   ]
  },
  {
   "cell_type": "markdown",
   "metadata": {},
   "source": [
    "---\n",
    "\n",
    "#### b. Verifique se há valores faltantes nos dados. Caso haja, escolha uma tratativa para resolver o problema de valores faltantes"
   ]
  },
  {
   "cell_type": "code",
   "execution_count": 173,
   "metadata": {},
   "outputs": [
    {
     "data": {
      "text/plain": [
       "year_of_reference     True\n",
       "month_of_reference    True\n",
       "fipe_code             True\n",
       "authentication        True\n",
       "brand                 True\n",
       "model                 True\n",
       "fuel                  True\n",
       "gear                  True\n",
       "engine_size           True\n",
       "year_model            True\n",
       "avg_price_brl         True\n",
       "dtype: bool"
      ]
     },
     "execution_count": 173,
     "metadata": {},
     "output_type": "execute_result"
    }
   ],
   "source": [
    "# verificando se há valores faltantes nos dados\n",
    "dados.isna().any()"
   ]
  },
  {
   "cell_type": "code",
   "execution_count": 174,
   "metadata": {},
   "outputs": [
    {
     "data": {
      "text/plain": [
       "year_of_reference     65245\n",
       "month_of_reference    65245\n",
       "fipe_code             65245\n",
       "authentication        65245\n",
       "brand                 65245\n",
       "model                 65245\n",
       "fuel                  65245\n",
       "gear                  65245\n",
       "engine_size           65245\n",
       "year_model            65245\n",
       "avg_price_brl         65245\n",
       "dtype: int64"
      ]
     },
     "execution_count": 174,
     "metadata": {},
     "output_type": "execute_result"
    }
   ],
   "source": [
    "# verificando a quantidade de valores faltantes por coluna\n",
    "dados.isna().sum()"
   ]
  },
  {
   "cell_type": "markdown",
   "metadata": {},
   "source": [
    "pelo o resultado é possível supor que pode haver um grande número de linhas inteiramente vazias"
   ]
  },
  {
   "cell_type": "code",
   "execution_count": 175,
   "metadata": {},
   "outputs": [
    {
     "data": {
      "text/plain": [
       "65245"
      ]
     },
     "execution_count": 175,
     "metadata": {},
     "output_type": "execute_result"
    }
   ],
   "source": [
    "# verificando se há linhas inteiramente vazias e quantas existem\n",
    "dados.isnull().all(axis=1).sum()"
   ]
  },
  {
   "cell_type": "code",
   "execution_count": 176,
   "metadata": {},
   "outputs": [],
   "source": [
    "# Removendo todas as linhas que teem em todos os seus campos valores faltantes\n",
    "dados.dropna(axis=0, how='all', inplace=True)"
   ]
  },
  {
   "cell_type": "code",
   "execution_count": 177,
   "metadata": {},
   "outputs": [
    {
     "data": {
      "text/plain": [
       "0"
      ]
     },
     "execution_count": 177,
     "metadata": {},
     "output_type": "execute_result"
    }
   ],
   "source": [
    "# Após correções, verificando novamente se há linhas inteiramente vazias e quantas existem\n",
    "dados.isnull().all(axis=1).sum()"
   ]
  },
  {
   "cell_type": "code",
   "execution_count": 178,
   "metadata": {},
   "outputs": [
    {
     "data": {
      "text/plain": [
       "year_of_reference     0\n",
       "month_of_reference    0\n",
       "fipe_code             0\n",
       "authentication        0\n",
       "brand                 0\n",
       "model                 0\n",
       "fuel                  0\n",
       "gear                  0\n",
       "engine_size           0\n",
       "year_model            0\n",
       "avg_price_brl         0\n",
       "dtype: int64"
      ]
     },
     "execution_count": 178,
     "metadata": {},
     "output_type": "execute_result"
    }
   ],
   "source": [
    "# Após correções, verificando novamente a quantidade de valores faltantes por coluna\n",
    "dados.isna().sum()"
   ]
  },
  {
   "cell_type": "markdown",
   "metadata": {},
   "source": [
    "---\n",
    "\n",
    "#### c. Verifique se há dados duplicados nos dados"
   ]
  },
  {
   "cell_type": "code",
   "execution_count": 179,
   "metadata": {},
   "outputs": [
    {
     "data": {
      "text/plain": [
       "2"
      ]
     },
     "execution_count": 179,
     "metadata": {},
     "output_type": "execute_result"
    }
   ],
   "source": [
    "# Verificando se há dados duplicados\n",
    "dados.duplicated().sum()"
   ]
  },
  {
   "cell_type": "code",
   "execution_count": 180,
   "metadata": {},
   "outputs": [],
   "source": [
    "# Removendo dados duplicados\n",
    "dados.drop_duplicates(inplace=True)"
   ]
  },
  {
   "cell_type": "code",
   "execution_count": 181,
   "metadata": {},
   "outputs": [
    {
     "data": {
      "text/plain": [
       "0"
      ]
     },
     "execution_count": 181,
     "metadata": {},
     "output_type": "execute_result"
    }
   ],
   "source": [
    "# Verificando se ainda há dados duplicados após remoção dos dados duplicados\n",
    "dados.duplicated().sum()"
   ]
  },
  {
   "cell_type": "markdown",
   "metadata": {},
   "source": [
    "---\n",
    "\n",
    "#### d. Crie duas categorias, para separar colunas numéricas e categóricas. Imprima o resumo de informações das variáveis numéricas e categóricas (estatística descritiva dos dados)"
   ]
  },
  {
   "cell_type": "code",
   "execution_count": 182,
   "metadata": {},
   "outputs": [],
   "source": [
    "# Convertendo engine_size, year_of_reference, year_model e avg_price_brl de object para numerics\n",
    "dados['engine_size'] = dados['engine_size'].str.replace(',', '.').astype(float)\n",
    "dados['year_of_reference'] = pd.to_numeric(dados['year_of_reference'], errors='coerce').astype('Int64')\n",
    "dados['year_model'] = pd.to_numeric(dados['year_model'], errors='coerce').astype('Int64')\n",
    "dados['avg_price_brl'] = pd.to_numeric(dados['avg_price_brl'], errors='coerce')"
   ]
  },
  {
   "cell_type": "code",
   "execution_count": 183,
   "metadata": {},
   "outputs": [],
   "source": [
    "numericas_cols = [col for col in dados.columns if dados[col].dtype != 'object']\n",
    "categoricas_cols = [col for col in dados.columns if dados[col].dtype == 'object']"
   ]
  },
  {
   "cell_type": "code",
   "execution_count": 184,
   "metadata": {},
   "outputs": [
    {
     "data": {
      "text/html": [
       "<div>\n",
       "<style scoped>\n",
       "    .dataframe tbody tr th:only-of-type {\n",
       "        vertical-align: middle;\n",
       "    }\n",
       "\n",
       "    .dataframe tbody tr th {\n",
       "        vertical-align: top;\n",
       "    }\n",
       "\n",
       "    .dataframe thead th {\n",
       "        text-align: right;\n",
       "    }\n",
       "</style>\n",
       "<table border=\"1\" class=\"dataframe\">\n",
       "  <thead>\n",
       "    <tr style=\"text-align: right;\">\n",
       "      <th></th>\n",
       "      <th>year_of_reference</th>\n",
       "      <th>engine_size</th>\n",
       "      <th>year_model</th>\n",
       "      <th>avg_price_brl</th>\n",
       "    </tr>\n",
       "  </thead>\n",
       "  <tbody>\n",
       "    <tr>\n",
       "      <th>count</th>\n",
       "      <td>202295.0</td>\n",
       "      <td>202295.000000</td>\n",
       "      <td>202295.0</td>\n",
       "      <td>202295.000000</td>\n",
       "    </tr>\n",
       "    <tr>\n",
       "      <th>mean</th>\n",
       "      <td>2021.564695</td>\n",
       "      <td>1.822302</td>\n",
       "      <td>2011.271514</td>\n",
       "      <td>52756.765713</td>\n",
       "    </tr>\n",
       "    <tr>\n",
       "      <th>std</th>\n",
       "      <td>0.571904</td>\n",
       "      <td>0.734432</td>\n",
       "      <td>6.376241</td>\n",
       "      <td>51628.912116</td>\n",
       "    </tr>\n",
       "    <tr>\n",
       "      <th>min</th>\n",
       "      <td>2021.0</td>\n",
       "      <td>1.000000</td>\n",
       "      <td>2000.0</td>\n",
       "      <td>6647.000000</td>\n",
       "    </tr>\n",
       "    <tr>\n",
       "      <th>25%</th>\n",
       "      <td>2021.0</td>\n",
       "      <td>1.400000</td>\n",
       "      <td>2006.0</td>\n",
       "      <td>22855.000000</td>\n",
       "    </tr>\n",
       "    <tr>\n",
       "      <th>50%</th>\n",
       "      <td>2022.0</td>\n",
       "      <td>1.600000</td>\n",
       "      <td>2012.0</td>\n",
       "      <td>38027.000000</td>\n",
       "    </tr>\n",
       "    <tr>\n",
       "      <th>75%</th>\n",
       "      <td>2022.0</td>\n",
       "      <td>2.000000</td>\n",
       "      <td>2016.0</td>\n",
       "      <td>64064.000000</td>\n",
       "    </tr>\n",
       "    <tr>\n",
       "      <th>max</th>\n",
       "      <td>2023.0</td>\n",
       "      <td>6.200000</td>\n",
       "      <td>2023.0</td>\n",
       "      <td>979358.000000</td>\n",
       "    </tr>\n",
       "  </tbody>\n",
       "</table>\n",
       "</div>"
      ],
      "text/plain": [
       "       year_of_reference    engine_size   year_model  avg_price_brl\n",
       "count           202295.0  202295.000000     202295.0  202295.000000\n",
       "mean         2021.564695       1.822302  2011.271514   52756.765713\n",
       "std             0.571904       0.734432     6.376241   51628.912116\n",
       "min               2021.0       1.000000       2000.0    6647.000000\n",
       "25%               2021.0       1.400000       2006.0   22855.000000\n",
       "50%               2022.0       1.600000       2012.0   38027.000000\n",
       "75%               2022.0       2.000000       2016.0   64064.000000\n",
       "max               2023.0       6.200000       2023.0  979358.000000"
      ]
     },
     "execution_count": 184,
     "metadata": {},
     "output_type": "execute_result"
    }
   ],
   "source": [
    "# Imprimindo alguns valores de medidas de tendências centrais\n",
    "dados[numericas_cols].describe()"
   ]
  },
  {
   "cell_type": "code",
   "execution_count": 185,
   "metadata": {},
   "outputs": [
    {
     "data": {
      "text/html": [
       "<div>\n",
       "<style scoped>\n",
       "    .dataframe tbody tr th:only-of-type {\n",
       "        vertical-align: middle;\n",
       "    }\n",
       "\n",
       "    .dataframe tbody tr th {\n",
       "        vertical-align: top;\n",
       "    }\n",
       "\n",
       "    .dataframe thead th {\n",
       "        text-align: right;\n",
       "    }\n",
       "</style>\n",
       "<table border=\"1\" class=\"dataframe\">\n",
       "  <thead>\n",
       "    <tr style=\"text-align: right;\">\n",
       "      <th></th>\n",
       "      <th>month_of_reference</th>\n",
       "      <th>fipe_code</th>\n",
       "      <th>authentication</th>\n",
       "      <th>brand</th>\n",
       "      <th>model</th>\n",
       "      <th>fuel</th>\n",
       "      <th>gear</th>\n",
       "    </tr>\n",
       "  </thead>\n",
       "  <tbody>\n",
       "    <tr>\n",
       "      <th>count</th>\n",
       "      <td>202295</td>\n",
       "      <td>202295</td>\n",
       "      <td>202295</td>\n",
       "      <td>202295</td>\n",
       "      <td>202295</td>\n",
       "      <td>202295</td>\n",
       "      <td>202295</td>\n",
       "    </tr>\n",
       "    <tr>\n",
       "      <th>unique</th>\n",
       "      <td>12</td>\n",
       "      <td>2091</td>\n",
       "      <td>202295</td>\n",
       "      <td>6</td>\n",
       "      <td>2112</td>\n",
       "      <td>3</td>\n",
       "      <td>2</td>\n",
       "    </tr>\n",
       "    <tr>\n",
       "      <th>top</th>\n",
       "      <td>January</td>\n",
       "      <td>003281-6</td>\n",
       "      <td>cfzlctzfwrcp</td>\n",
       "      <td>Fiat</td>\n",
       "      <td>Palio Week. Adv/Adv TRYON 1.8 mpi Flex</td>\n",
       "      <td>Gasoline</td>\n",
       "      <td>manual</td>\n",
       "    </tr>\n",
       "    <tr>\n",
       "      <th>freq</th>\n",
       "      <td>24260</td>\n",
       "      <td>425</td>\n",
       "      <td>1</td>\n",
       "      <td>44962</td>\n",
       "      <td>425</td>\n",
       "      <td>168684</td>\n",
       "      <td>161883</td>\n",
       "    </tr>\n",
       "  </tbody>\n",
       "</table>\n",
       "</div>"
      ],
      "text/plain": [
       "       month_of_reference fipe_code authentication   brand  \\\n",
       "count              202295    202295         202295  202295   \n",
       "unique                 12      2091         202295       6   \n",
       "top               January  003281-6   cfzlctzfwrcp    Fiat   \n",
       "freq                24260       425              1   44962   \n",
       "\n",
       "                                         model      fuel    gear  \n",
       "count                                   202295    202295  202295  \n",
       "unique                                    2112         3       2  \n",
       "top     Palio Week. Adv/Adv TRYON 1.8 mpi Flex  Gasoline  manual  \n",
       "freq                                       425    168684  161883  "
      ]
     },
     "execution_count": 185,
     "metadata": {},
     "output_type": "execute_result"
    }
   ],
   "source": [
    "# Imprimindo resumos de variáveis categóricas - estatística descritiva\n",
    "dados[categoricas_cols].describe()"
   ]
  },
  {
   "cell_type": "markdown",
   "metadata": {},
   "source": [
    "e. Imprima a contagem de valores por modelo (model) e marca do carro (brand)"
   ]
  },
  {
   "cell_type": "code",
   "execution_count": 186,
   "metadata": {},
   "outputs": [
    {
     "data": {
      "text/plain": [
       "model\n",
       "Palio Week. Adv/Adv TRYON 1.8 mpi Flex    425\n",
       "Focus 1.6 S/SE/SE Plus Flex 8V/16V 5p     425\n",
       "Focus 2.0 16V/SE/SE Plus Flex 5p Aut.     400\n",
       "Saveiro 1.6 Mi/ 1.6 Mi Total Flex 8V      400\n",
       "Corvette 5.7/ 6.0, 6.2 Targa/Stingray     375\n",
       "                                         ... \n",
       "STEPWAY Zen Flex 1.0 12V Mec.               2\n",
       "Saveiro Robust 1.6 Total Flex 16V CD        2\n",
       "Saveiro Robust 1.6 Total Flex 16V           2\n",
       "Gol Last Edition 1.0 Flex 12V 5p            2\n",
       "Polo Track 1.0 Flex 12V 5p                  2\n",
       "Name: count, Length: 2112, dtype: int64"
      ]
     },
     "execution_count": 186,
     "metadata": {},
     "output_type": "execute_result"
    }
   ],
   "source": [
    "# Imprimir quantidade de carros por modelo\n",
    "dados['model'].value_counts()"
   ]
  },
  {
   "cell_type": "code",
   "execution_count": 187,
   "metadata": {},
   "outputs": [
    {
     "data": {
      "text/plain": [
       "brand\n",
       "Fiat               44962\n",
       "VW - VolksWagen    44312\n",
       "GM - Chevrolet     38590\n",
       "Ford               33150\n",
       "Renault            29191\n",
       "Nissan             12090\n",
       "Name: count, dtype: int64"
      ]
     },
     "execution_count": 187,
     "metadata": {},
     "output_type": "execute_result"
    }
   ],
   "source": [
    "# Imprimir quantidade de carros por marca\n",
    "dados['brand'].value_counts()"
   ]
  },
  {
   "cell_type": "markdown",
   "metadata": {},
   "source": [
    "---\n",
    "---\n",
    "# 2. Visualização de dados"
   ]
  },
  {
   "cell_type": "markdown",
   "metadata": {},
   "source": [
    "#### a. Gere um gráfico da distribuição da quantidade de carros por marca"
   ]
  },
  {
   "cell_type": "code",
   "execution_count": 188,
   "metadata": {},
   "outputs": [
    {
     "data": {
      "text/plain": [
       "brand\n",
       "Fiat               44962\n",
       "VW - VolksWagen    44312\n",
       "GM - Chevrolet     38590\n",
       "Ford               33150\n",
       "Renault            29191\n",
       "Nissan             12090\n",
       "Name: count, dtype: int64"
      ]
     },
     "execution_count": 188,
     "metadata": {},
     "output_type": "execute_result"
    }
   ],
   "source": [
    "# Determinar a quantidade de elementos para cada marca de carro\n",
    "dados['brand'].value_counts()"
   ]
  },
  {
   "cell_type": "code",
   "execution_count": 189,
   "metadata": {},
   "outputs": [
    {
     "data": {
      "text/plain": [
       "[Text(0, 0, '44962.0'),\n",
       " Text(0, 0, '44312.0'),\n",
       " Text(0, 0, '38590.0'),\n",
       " Text(0, 0, '33150.0'),\n",
       " Text(0, 0, '29191.0'),\n",
       " Text(0, 0, '12090.0')]"
      ]
     },
     "execution_count": 189,
     "metadata": {},
     "output_type": "execute_result"
    },
    {
     "data": {
      "image/png": "[encoded data removed]",
      "text/plain": [
       "<Figure size 2000x1000 with 1 Axes>"
      ]
     },
     "metadata": {},
     "output_type": "display_data"
    }
   ],
   "source": [
    "# Gráfico da distribuição da quantidade de carros por marca\n",
    "plt.figure(figsize=(20,10)) # Tamanho da imagem do gráfico\n",
    "grafic_brands_qties = plt.bar(dados['brand'].unique(), dados['brand'].value_counts()) # gráfico de barras - eixos X e Y\n",
    "plt.title('Quantidade de carros por marca') # inserir título no gráfico\n",
    "plt.ylabel('Total de carros') # inserir rótulo no eixo Y\n",
    "plt.bar_label(grafic_brands_qties, size=10, fmt=\"%.01f\", label_type='edge')"
   ]
  },
  {
   "cell_type": "markdown",
   "metadata": {},
   "source": [
    "---\n",
    "\n",
    "#### b. Gere um gráfico da distribuição da quantidade de carros por tipo de engrenagem do carro\n"
   ]
  },
  {
   "cell_type": "code",
   "execution_count": 190,
   "metadata": {},
   "outputs": [
    {
     "data": {
      "text/plain": [
       "gear\n",
       "manual       161883\n",
       "automatic     40412\n",
       "Name: count, dtype: int64"
      ]
     },
     "execution_count": 190,
     "metadata": {},
     "output_type": "execute_result"
    }
   ],
   "source": [
    "# Determinar a quantidade de carros para cada tipo de engrenagem do carro (câmbio)\n",
    "dados['gear'].value_counts()"
   ]
  },
  {
   "cell_type": "code",
   "execution_count": 191,
   "metadata": {},
   "outputs": [
    {
     "data": {
      "text/plain": [
       "[Text(0, 0, '161883.0'), Text(0, 0, '40412.0')]"
      ]
     },
     "execution_count": 191,
     "metadata": {},
     "output_type": "execute_result"
    },
    {
     "data": {
      "image/png": "[encoded data removed]",
      "text/plain": [
       "<Figure size 2000x1000 with 1 Axes>"
      ]
     },
     "metadata": {},
     "output_type": "display_data"
    }
   ],
   "source": [
    "# Gráfico da distribuição de carros por tipo de engrenagem de carro (câmbio)\n",
    "plt.figure(figsize=(20,10)) # Tamanho da imagem do gráfico\n",
    "grafic_gear_qties = plt.bar(dados['gear'].unique(), dados['gear'].value_counts()) # gráfico de barras - eixos X e Y\n",
    "plt.title('Quantidade de carros por transmissão') # inserir título no gráfico\n",
    "plt.ylabel('Número de carros') # inserir rótulo no eixo Y\n",
    "plt.bar_label(grafic_gear_qties, size=10, fmt=\"%.01f\", label_type='edge')"
   ]
  },
  {
   "cell_type": "markdown",
   "metadata": {},
   "source": [
    "---\n",
    "\n",
    "#### c.  Gere um gráfico da evolução da média de preço dos carros ao longo dos meses de 2022 (variável de tempo no eixo X)"
   ]
  },
  {
   "cell_type": "code",
   "execution_count": 192,
   "metadata": {},
   "outputs": [],
   "source": [
    "# Arrendondar ano de referência - remover a parte decimal\n",
    "dados['year_of_reference'] = dados['year_of_reference'].round().astype(int)"
   ]
  },
  {
   "cell_type": "code",
   "execution_count": 193,
   "metadata": {},
   "outputs": [
    {
     "data": {
      "text/html": [
       "<div>\n",
       "<style scoped>\n",
       "    .dataframe tbody tr th:only-of-type {\n",
       "        vertical-align: middle;\n",
       "    }\n",
       "\n",
       "    .dataframe tbody tr th {\n",
       "        vertical-align: top;\n",
       "    }\n",
       "\n",
       "    .dataframe thead th {\n",
       "        text-align: right;\n",
       "    }\n",
       "</style>\n",
       "<table border=\"1\" class=\"dataframe\">\n",
       "  <thead>\n",
       "    <tr style=\"text-align: right;\">\n",
       "      <th></th>\n",
       "      <th>year_of_reference</th>\n",
       "      <th>month_of_reference</th>\n",
       "      <th>fipe_code</th>\n",
       "      <th>authentication</th>\n",
       "      <th>brand</th>\n",
       "      <th>model</th>\n",
       "      <th>fuel</th>\n",
       "      <th>gear</th>\n",
       "      <th>engine_size</th>\n",
       "      <th>year_model</th>\n",
       "      <th>avg_price_brl</th>\n",
       "    </tr>\n",
       "  </thead>\n",
       "  <tbody>\n",
       "    <tr>\n",
       "      <th>96280</th>\n",
       "      <td>2022</td>\n",
       "      <td>January</td>\n",
       "      <td>004001-0</td>\n",
       "      <td>gzw0hkct8cj4</td>\n",
       "      <td>GM - Chevrolet</td>\n",
       "      <td>Corsa Wind 1.0 MPFI / EFI 2p</td>\n",
       "      <td>Gasoline</td>\n",
       "      <td>manual</td>\n",
       "      <td>1.0</td>\n",
       "      <td>2002</td>\n",
       "      <td>12330.0</td>\n",
       "    </tr>\n",
       "    <tr>\n",
       "      <th>96281</th>\n",
       "      <td>2022</td>\n",
       "      <td>January</td>\n",
       "      <td>004001-0</td>\n",
       "      <td>gm2ws5yqjnfx</td>\n",
       "      <td>GM - Chevrolet</td>\n",
       "      <td>Corsa Wind 1.0 MPFI / EFI 2p</td>\n",
       "      <td>Gasoline</td>\n",
       "      <td>manual</td>\n",
       "      <td>1.0</td>\n",
       "      <td>2001</td>\n",
       "      <td>11408.0</td>\n",
       "    </tr>\n",
       "    <tr>\n",
       "      <th>96282</th>\n",
       "      <td>2022</td>\n",
       "      <td>January</td>\n",
       "      <td>004001-0</td>\n",
       "      <td>gbvgy7432kp</td>\n",
       "      <td>GM - Chevrolet</td>\n",
       "      <td>Corsa Wind 1.0 MPFI / EFI 2p</td>\n",
       "      <td>Gasoline</td>\n",
       "      <td>manual</td>\n",
       "      <td>1.0</td>\n",
       "      <td>2000</td>\n",
       "      <td>10620.0</td>\n",
       "    </tr>\n",
       "    <tr>\n",
       "      <th>96283</th>\n",
       "      <td>2022</td>\n",
       "      <td>January</td>\n",
       "      <td>004001-0</td>\n",
       "      <td>gvx412fg8v0</td>\n",
       "      <td>GM - Chevrolet</td>\n",
       "      <td>Corsa Wind 1.0 MPFI / EFI 2p</td>\n",
       "      <td>Alcohol</td>\n",
       "      <td>manual</td>\n",
       "      <td>1.0</td>\n",
       "      <td>2000</td>\n",
       "      <td>11992.0</td>\n",
       "    </tr>\n",
       "    <tr>\n",
       "      <th>96284</th>\n",
       "      <td>2022</td>\n",
       "      <td>January</td>\n",
       "      <td>004003-7</td>\n",
       "      <td>jtskpmg524fx</td>\n",
       "      <td>GM - Chevrolet</td>\n",
       "      <td>Corsa Pick-Up GL/ Champ 1.6 MPFI / EFI</td>\n",
       "      <td>Gasoline</td>\n",
       "      <td>manual</td>\n",
       "      <td>1.6</td>\n",
       "      <td>2001</td>\n",
       "      <td>17182.0</td>\n",
       "    </tr>\n",
       "  </tbody>\n",
       "</table>\n",
       "</div>"
      ],
      "text/plain": [
       "       year_of_reference month_of_reference fipe_code authentication  \\\n",
       "96280               2022            January  004001-0   gzw0hkct8cj4   \n",
       "96281               2022            January  004001-0   gm2ws5yqjnfx   \n",
       "96282               2022            January  004001-0    gbvgy7432kp   \n",
       "96283               2022            January  004001-0    gvx412fg8v0   \n",
       "96284               2022            January  004003-7   jtskpmg524fx   \n",
       "\n",
       "                brand                                   model      fuel  \\\n",
       "96280  GM - Chevrolet            Corsa Wind 1.0 MPFI / EFI 2p  Gasoline   \n",
       "96281  GM - Chevrolet            Corsa Wind 1.0 MPFI / EFI 2p  Gasoline   \n",
       "96282  GM - Chevrolet            Corsa Wind 1.0 MPFI / EFI 2p  Gasoline   \n",
       "96283  GM - Chevrolet            Corsa Wind 1.0 MPFI / EFI 2p   Alcohol   \n",
       "96284  GM - Chevrolet  Corsa Pick-Up GL/ Champ 1.6 MPFI / EFI  Gasoline   \n",
       "\n",
       "         gear  engine_size  year_model  avg_price_brl  \n",
       "96280  manual          1.0        2002        12330.0  \n",
       "96281  manual          1.0        2001        11408.0  \n",
       "96282  manual          1.0        2000        10620.0  \n",
       "96283  manual          1.0        2000        11992.0  \n",
       "96284  manual          1.6        2001        17182.0  "
      ]
     },
     "execution_count": 193,
     "metadata": {},
     "output_type": "execute_result"
    }
   ],
   "source": [
    "# Obter somente carros do ano de 2022\n",
    "cars_in_2022 = dados[dados['year_of_reference'] == 2022]\n",
    "cars_in_2022.head()"
   ]
  },
  {
   "cell_type": "code",
   "execution_count": 194,
   "metadata": {},
   "outputs": [],
   "source": [
    "# Definir a ordem dos meses customizada\n",
    "month_order = ['January', 'February', 'March', 'April', 'May', 'June', 'July', 'August', 'September', 'October', 'November', 'December']"
   ]
  },
  {
   "cell_type": "code",
   "execution_count": 195,
   "metadata": {},
   "outputs": [
    {
     "data": {
      "text/plain": [
       "month_of_reference\n",
       "January     54840.0\n",
       "February    55825.0\n",
       "March       56849.0\n",
       "April       57150.0\n",
       "May         57800.0\n",
       "Name: avg_price_brl, dtype: float64"
      ]
     },
     "execution_count": 195,
     "metadata": {},
     "output_type": "execute_result"
    }
   ],
   "source": [
    "# Agrupar os preços médios dos carros em cada mês\n",
    "cars_in_2022['month_of_reference'] = pd.Categorical(cars_in_2022['month_of_reference'], categories=month_order, ordered=True)\n",
    "cars_avg_price_in_2022 = cars_in_2022.groupby(['month_of_reference'])['avg_price_brl'].mean().round(0)\n",
    "cars_avg_price_in_2022.head()"
   ]
  },
  {
   "cell_type": "code",
   "execution_count": 196,
   "metadata": {},
   "outputs": [
    {
     "data": {
      "text/html": [
       "<div>\n",
       "<style scoped>\n",
       "    .dataframe tbody tr th:only-of-type {\n",
       "        vertical-align: middle;\n",
       "    }\n",
       "\n",
       "    .dataframe tbody tr th {\n",
       "        vertical-align: top;\n",
       "    }\n",
       "\n",
       "    .dataframe thead th {\n",
       "        text-align: right;\n",
       "    }\n",
       "</style>\n",
       "<table border=\"1\" class=\"dataframe\">\n",
       "  <thead>\n",
       "    <tr style=\"text-align: right;\">\n",
       "      <th></th>\n",
       "      <th>month_of_reference</th>\n",
       "      <th>average_price</th>\n",
       "    </tr>\n",
       "  </thead>\n",
       "  <tbody>\n",
       "    <tr>\n",
       "      <th>0</th>\n",
       "      <td>January</td>\n",
       "      <td>54840.0</td>\n",
       "    </tr>\n",
       "    <tr>\n",
       "      <th>1</th>\n",
       "      <td>February</td>\n",
       "      <td>55825.0</td>\n",
       "    </tr>\n",
       "    <tr>\n",
       "      <th>2</th>\n",
       "      <td>March</td>\n",
       "      <td>56849.0</td>\n",
       "    </tr>\n",
       "    <tr>\n",
       "      <th>3</th>\n",
       "      <td>April</td>\n",
       "      <td>57150.0</td>\n",
       "    </tr>\n",
       "    <tr>\n",
       "      <th>4</th>\n",
       "      <td>May</td>\n",
       "      <td>57800.0</td>\n",
       "    </tr>\n",
       "  </tbody>\n",
       "</table>\n",
       "</div>"
      ],
      "text/plain": [
       "  month_of_reference  average_price\n",
       "0            January        54840.0\n",
       "1           February        55825.0\n",
       "2              March        56849.0\n",
       "3              April        57150.0\n",
       "4                May        57800.0"
      ]
     },
     "execution_count": 196,
     "metadata": {},
     "output_type": "execute_result"
    }
   ],
   "source": [
    "# Utilizando a função reset_index para criar uma ordem e facilitar a criação do gráfico\n",
    "cars_avg_price_in_2022 = cars_avg_price_in_2022.reset_index(name='average_price')\n",
    "cars_avg_price_in_2022.head()"
   ]
  },
  {
   "cell_type": "code",
   "execution_count": 197,
   "metadata": {},
   "outputs": [
    {
     "data": {
      "image/png": "[encoded data removed]",
      "text/plain": [
       "<Figure size 2000x1000 with 1 Axes>"
      ]
     },
     "metadata": {},
     "output_type": "display_data"
    }
   ],
   "source": [
    "plt.figure(figsize=(20, 10))\n",
    "# cars_avg_price_in_2022.plot(kind='line', marker='o')\n",
    "plt.plot(cars_avg_price_in_2022['month_of_reference'], cars_avg_price_in_2022['average_price'], marker='o', linestyle='-')\n",
    "\n",
    "# adiciona anotações de cada ponto ao gráfico\n",
    "for x, y in zip(cars_avg_price_in_2022['month_of_reference'], cars_avg_price_in_2022['average_price']):\n",
    "    label = \"{:.2f}\".format(y)\n",
    "    plt.annotate(\n",
    "      label,\n",
    "      (x,y),\n",
    "      textcoords=\"offset points\",\n",
    "      xytext=(0,10),\n",
    "      ha='center'\n",
    "    )\n",
    "\n",
    "plt.title('Evolução da Média de Preço dos Carros em 2022')\n",
    "plt.xlabel('Mês')\n",
    "plt.ylabel('Média de Preço (BRL)')\n",
    "plt.xticks(cars_avg_price_in_2022.index, month_order, rotation=45)\n",
    "plt.grid(True)"
   ]
  },
  {
   "cell_type": "markdown",
   "metadata": {},
   "source": [
    "---\n",
    "\n",
    "#### d. Gere um gráfico da distribuição da média de preço dos carros por marca e tipo de engrenagem"
   ]
  },
  {
   "cell_type": "code",
   "execution_count": 198,
   "metadata": {},
   "outputs": [
    {
     "data": {
      "text/plain": [
       "brand           gear     \n",
       "Fiat            automatic    97397.0\n",
       "                manual       39694.0\n",
       "Ford            automatic    84769.0\n",
       "                manual       51784.0\n",
       "GM - Chevrolet  automatic    88157.0\n",
       "Name: avg_price_brl, dtype: float64"
      ]
     },
     "execution_count": 198,
     "metadata": {},
     "output_type": "execute_result"
    }
   ],
   "source": [
    "# Agrupar média de preços médios dos carros por marcar e tipo de engrenagem\n",
    "car_gear_brand_avg_price = dados.groupby(['brand', 'gear'])['avg_price_brl'].mean().round(0)\n",
    "car_gear_brand_avg_price.head()"
   ]
  },
  {
   "cell_type": "code",
   "execution_count": 199,
   "metadata": {},
   "outputs": [
    {
     "data": {
      "text/html": [
       "<div>\n",
       "<style scoped>\n",
       "    .dataframe tbody tr th:only-of-type {\n",
       "        vertical-align: middle;\n",
       "    }\n",
       "\n",
       "    .dataframe tbody tr th {\n",
       "        vertical-align: top;\n",
       "    }\n",
       "\n",
       "    .dataframe thead th {\n",
       "        text-align: right;\n",
       "    }\n",
       "</style>\n",
       "<table border=\"1\" class=\"dataframe\">\n",
       "  <thead>\n",
       "    <tr style=\"text-align: right;\">\n",
       "      <th></th>\n",
       "      <th>brand</th>\n",
       "      <th>gear</th>\n",
       "      <th>average_price</th>\n",
       "    </tr>\n",
       "  </thead>\n",
       "  <tbody>\n",
       "    <tr>\n",
       "      <th>0</th>\n",
       "      <td>Fiat</td>\n",
       "      <td>automatic</td>\n",
       "      <td>97397.0</td>\n",
       "    </tr>\n",
       "    <tr>\n",
       "      <th>1</th>\n",
       "      <td>Fiat</td>\n",
       "      <td>manual</td>\n",
       "      <td>39694.0</td>\n",
       "    </tr>\n",
       "    <tr>\n",
       "      <th>2</th>\n",
       "      <td>Ford</td>\n",
       "      <td>automatic</td>\n",
       "      <td>84769.0</td>\n",
       "    </tr>\n",
       "    <tr>\n",
       "      <th>3</th>\n",
       "      <td>Ford</td>\n",
       "      <td>manual</td>\n",
       "      <td>51784.0</td>\n",
       "    </tr>\n",
       "    <tr>\n",
       "      <th>4</th>\n",
       "      <td>GM - Chevrolet</td>\n",
       "      <td>automatic</td>\n",
       "      <td>88157.0</td>\n",
       "    </tr>\n",
       "  </tbody>\n",
       "</table>\n",
       "</div>"
      ],
      "text/plain": [
       "            brand       gear  average_price\n",
       "0            Fiat  automatic        97397.0\n",
       "1            Fiat     manual        39694.0\n",
       "2            Ford  automatic        84769.0\n",
       "3            Ford     manual        51784.0\n",
       "4  GM - Chevrolet  automatic        88157.0"
      ]
     },
     "execution_count": 199,
     "metadata": {},
     "output_type": "execute_result"
    }
   ],
   "source": [
    "# Utilizando a função reset_index para criar uma ordem e facilitar a criação do gráfico\n",
    "car_gear_brand_avg_price = car_gear_brand_avg_price.reset_index(name='average_price')\n",
    "car_gear_brand_avg_price.head()"
   ]
  },
  {
   "cell_type": "code",
   "execution_count": 200,
   "metadata": {},
   "outputs": [
    {
     "data": {
      "text/plain": [
       "Text(0.5, 1.0, 'Média de preços dos carros por marca e tipo de engrenagem')"
      ]
     },
     "execution_count": 200,
     "metadata": {},
     "output_type": "execute_result"
    },
    {
     "data": {
      "image/png": "[encoded data removed]",
      "text/plain": [
       "<Figure size 2000x1000 with 1 Axes>"
      ]
     },
     "metadata": {},
     "output_type": "display_data"
    }
   ],
   "source": [
    "# Gerar o gráfico de distruibuição média dos preços dos carros por marca e tipo de engrenagem\n",
    "plt.figure(figsize=(20,10))\n",
    "barplot = sns.barplot(\n",
    "  x='gear', \n",
    "  y='average_price', \n",
    "  hue='brand', \n",
    "  data=car_gear_brand_avg_price, \n",
    "  hue_order=car_gear_brand_avg_price['brand'].unique(),\n",
    ")\n",
    "barplot.legend(loc='center left', bbox_to_anchor=(1, 0.5), ncol=1, fontsize=12)\n",
    "\n",
    "barplot.bar_label(barplot.containers[0], fontsize=14);\n",
    "barplot.bar_label(barplot.containers[1], fontsize=14);\n",
    "barplot.bar_label(barplot.containers[2], fontsize=14);\n",
    "barplot.bar_label(barplot.containers[3], fontsize=14);\n",
    "barplot.bar_label(barplot.containers[4], fontsize=14);\n",
    "barplot.bar_label(barplot.containers[5], fontsize=14);\n",
    "\n",
    "plt.title('Média de preços dos carros por marca e tipo de engrenagem')"
   ]
  },
  {
   "cell_type": "code",
   "execution_count": 201,
   "metadata": {},
   "outputs": [
    {
     "data": {
      "text/plain": [
       "Text(0.5, 1.0, 'Média de Preços dos Carros por Marca e Tipo de engrenagem')"
      ]
     },
     "execution_count": 201,
     "metadata": {},
     "output_type": "execute_result"
    },
    {
     "data": {
      "image/png": "[encoded data removed]",
      "text/plain": [
       "<Figure size 2000x1000 with 1 Axes>"
      ]
     },
     "metadata": {},
     "output_type": "display_data"
    }
   ],
   "source": [
    "# Gerar o segundo tipo de gráfico de distruibuição média dos preços dos carros por marca e tipo de engrenagem\n",
    "plt.figure(figsize=(20,10))\n",
    "barplot = sns.barplot(\n",
    "  x='brand', \n",
    "  y='average_price', \n",
    "  hue='gear', \n",
    "  data=car_gear_brand_avg_price, \n",
    "  hue_order=car_gear_brand_avg_price['gear'].unique(),\n",
    ")\n",
    "\n",
    "barplot.legend(loc='center left', bbox_to_anchor=(1, 0.5), ncol=1, fontsize=12)\n",
    "\n",
    "barplot.bar_label(barplot.containers[0], fontsize=14);\n",
    "barplot.bar_label(barplot.containers[1], fontsize=14);\n",
    "\n",
    "plt.title('Média de Preços dos Carros por Marca e Tipo de engrenagem')"
   ]
  },
  {
   "cell_type": "markdown",
   "metadata": {},
   "source": [
    "---\n",
    "\n",
    "#### f. Gere um gráfico da distribuição da média de preço dos carros por marca e tipo de combustível"
   ]
  },
  {
   "cell_type": "code",
   "execution_count": 202,
   "metadata": {},
   "outputs": [
    {
     "data": {
      "text/plain": [
       "brand  fuel    \n",
       "Fiat   Alcohol     11510.0\n",
       "       Diesel      99814.0\n",
       "       Gasoline    37197.0\n",
       "Ford   Alcohol     10149.0\n",
       "       Diesel      94526.0\n",
       "Name: avg_price_brl, dtype: float64"
      ]
     },
     "execution_count": 202,
     "metadata": {},
     "output_type": "execute_result"
    }
   ],
   "source": [
    "# Agrupar média de preços médios dos carros por marcar e tipo de combustível\n",
    "cars_avg_price_brand_fuel = dados.groupby(['brand', 'fuel'])['avg_price_brl'].mean().round(0)\n",
    "cars_avg_price_brand_fuel.head()"
   ]
  },
  {
   "cell_type": "code",
   "execution_count": 203,
   "metadata": {},
   "outputs": [
    {
     "data": {
      "text/html": [
       "<div>\n",
       "<style scoped>\n",
       "    .dataframe tbody tr th:only-of-type {\n",
       "        vertical-align: middle;\n",
       "    }\n",
       "\n",
       "    .dataframe tbody tr th {\n",
       "        vertical-align: top;\n",
       "    }\n",
       "\n",
       "    .dataframe thead th {\n",
       "        text-align: right;\n",
       "    }\n",
       "</style>\n",
       "<table border=\"1\" class=\"dataframe\">\n",
       "  <thead>\n",
       "    <tr style=\"text-align: right;\">\n",
       "      <th></th>\n",
       "      <th>brand</th>\n",
       "      <th>fuel</th>\n",
       "      <th>average_price</th>\n",
       "    </tr>\n",
       "  </thead>\n",
       "  <tbody>\n",
       "    <tr>\n",
       "      <th>0</th>\n",
       "      <td>Fiat</td>\n",
       "      <td>Alcohol</td>\n",
       "      <td>11510.0</td>\n",
       "    </tr>\n",
       "    <tr>\n",
       "      <th>1</th>\n",
       "      <td>Fiat</td>\n",
       "      <td>Diesel</td>\n",
       "      <td>99814.0</td>\n",
       "    </tr>\n",
       "    <tr>\n",
       "      <th>2</th>\n",
       "      <td>Fiat</td>\n",
       "      <td>Gasoline</td>\n",
       "      <td>37197.0</td>\n",
       "    </tr>\n",
       "    <tr>\n",
       "      <th>3</th>\n",
       "      <td>Ford</td>\n",
       "      <td>Alcohol</td>\n",
       "      <td>10149.0</td>\n",
       "    </tr>\n",
       "    <tr>\n",
       "      <th>4</th>\n",
       "      <td>Ford</td>\n",
       "      <td>Diesel</td>\n",
       "      <td>94526.0</td>\n",
       "    </tr>\n",
       "  </tbody>\n",
       "</table>\n",
       "</div>"
      ],
      "text/plain": [
       "  brand      fuel  average_price\n",
       "0  Fiat   Alcohol        11510.0\n",
       "1  Fiat    Diesel        99814.0\n",
       "2  Fiat  Gasoline        37197.0\n",
       "3  Ford   Alcohol        10149.0\n",
       "4  Ford    Diesel        94526.0"
      ]
     },
     "execution_count": 203,
     "metadata": {},
     "output_type": "execute_result"
    }
   ],
   "source": [
    "# Utilizando a função reset_index para criar uma ordem e facilitar a criação do gráfico\n",
    "cars_avg_price_brand_fuel = cars_avg_price_brand_fuel.reset_index(name='average_price')\n",
    "cars_avg_price_brand_fuel.head()"
   ]
  },
  {
   "cell_type": "code",
   "execution_count": 204,
   "metadata": {},
   "outputs": [
    {
     "data": {
      "text/plain": [
       "Text(0.5, 1.0, 'Média de Preços dos Carros por Marca e Tipo de Combustível')"
      ]
     },
     "execution_count": 204,
     "metadata": {},
     "output_type": "execute_result"
    },
    {
     "data": {
      "image/png": "[encoded data removed]",
      "text/plain": [
       "<Figure size 2000x1000 with 1 Axes>"
      ]
     },
     "metadata": {},
     "output_type": "display_data"
    }
   ],
   "source": [
    "# Gerar gráfico de média de preços médios de carros por marcar e tipo de combustível\n",
    "plt.figure(figsize=(20, 10))\n",
    "barplot = sns.barplot(\n",
    "  x='brand', \n",
    "  y='average_price',\n",
    "  hue='fuel',\n",
    "  data=cars_avg_price_brand_fuel,\n",
    "  hue_order=cars_avg_price_brand_fuel['fuel'].unique()\n",
    ")\n",
    "\n",
    "barplot.legend(loc='center left', bbox_to_anchor=(1, 0.5), ncol=1, fontsize=12)\n",
    "\n",
    "barplot.bar_label(barplot.containers[0], fontsize=14)\n",
    "barplot.bar_label(barplot.containers[1], fontsize=14)\n",
    "barplot.bar_label(barplot.containers[2], fontsize=14)\n",
    "\n",
    "plt.title('Média de Preços dos Carros por Marca e Tipo de Combustível')"
   ]
  },
  {
   "cell_type": "code",
   "execution_count": 205,
   "metadata": {},
   "outputs": [
    {
     "data": {
      "text/plain": [
       "Text(0.5, 1.0, 'Média de Preços dos Carros por Marca e Tipo de Combustível')"
      ]
     },
     "execution_count": 205,
     "metadata": {},
     "output_type": "execute_result"
    },
    {
     "data": {
      "image/png": "[encoded data removed]",
      "text/plain": [
       "<Figure size 2000x1000 with 1 Axes>"
      ]
     },
     "metadata": {},
     "output_type": "display_data"
    }
   ],
   "source": [
    "# Gerar gráfico de média de preços médios de carros por marcar e tipo de combustível - Segundo tipo\n",
    "plt.figure(figsize=(20, 10))\n",
    "barplot = sns.barplot(\n",
    "  x='fuel', \n",
    "  y='average_price',\n",
    "  hue='brand',\n",
    "  data=cars_avg_price_brand_fuel,\n",
    "  hue_order=cars_avg_price_brand_fuel['brand'].unique()\n",
    ")\n",
    "\n",
    "barplot.legend(loc='center left', bbox_to_anchor=(1, 0.5), ncol=1, fontsize=12)\n",
    "\n",
    "barplot.bar_label(barplot.containers[0], fontsize=14)\n",
    "barplot.bar_label(barplot.containers[1], fontsize=14)\n",
    "barplot.bar_label(barplot.containers[2], fontsize=14)\n",
    "barplot.bar_label(barplot.containers[3], fontsize=14)\n",
    "barplot.bar_label(barplot.containers[4], fontsize=14)\n",
    "barplot.bar_label(barplot.containers[5], fontsize=14)\n",
    "\n",
    "plt.title('Média de Preços dos Carros por Marca e Tipo de Combustível')"
   ]
  },
  {
   "cell_type": "markdown",
   "metadata": {},
   "source": [
    "---\n",
    "---\n",
    "#### 3. Aplicação de modelos de machine learning para prever o preço médio dos carros "
   ]
  },
  {
   "cell_type": "markdown",
   "metadata": {},
   "source": [
    "a. Escolha as variáveis numéricas (modelos de Regressão) para serem as variáveis independentes do modelo"
   ]
  },
  {
   "cell_type": "code",
   "execution_count": 206,
   "metadata": {},
   "outputs": [
    {
     "data": {
      "text/html": [
       "<div>\n",
       "<style scoped>\n",
       "    .dataframe tbody tr th:only-of-type {\n",
       "        vertical-align: middle;\n",
       "    }\n",
       "\n",
       "    .dataframe tbody tr th {\n",
       "        vertical-align: top;\n",
       "    }\n",
       "\n",
       "    .dataframe thead th {\n",
       "        text-align: right;\n",
       "    }\n",
       "</style>\n",
       "<table border=\"1\" class=\"dataframe\">\n",
       "  <thead>\n",
       "    <tr style=\"text-align: right;\">\n",
       "      <th></th>\n",
       "      <th>year_of_reference</th>\n",
       "      <th>month_of_reference</th>\n",
       "      <th>fipe_code</th>\n",
       "      <th>authentication</th>\n",
       "      <th>brand</th>\n",
       "      <th>model</th>\n",
       "      <th>fuel</th>\n",
       "      <th>gear</th>\n",
       "      <th>engine_size</th>\n",
       "      <th>year_model</th>\n",
       "      <th>avg_price_brl</th>\n",
       "    </tr>\n",
       "  </thead>\n",
       "  <tbody>\n",
       "    <tr>\n",
       "      <th>0</th>\n",
       "      <td>2021</td>\n",
       "      <td>January</td>\n",
       "      <td>004001-0</td>\n",
       "      <td>cfzlctzfwrcp</td>\n",
       "      <td>GM - Chevrolet</td>\n",
       "      <td>Corsa Wind 1.0 MPFI / EFI 2p</td>\n",
       "      <td>Gasoline</td>\n",
       "      <td>manual</td>\n",
       "      <td>1.0</td>\n",
       "      <td>2002</td>\n",
       "      <td>9162.0</td>\n",
       "    </tr>\n",
       "    <tr>\n",
       "      <th>1</th>\n",
       "      <td>2021</td>\n",
       "      <td>January</td>\n",
       "      <td>004001-0</td>\n",
       "      <td>cdqwxwpw3y2p</td>\n",
       "      <td>GM - Chevrolet</td>\n",
       "      <td>Corsa Wind 1.0 MPFI / EFI 2p</td>\n",
       "      <td>Gasoline</td>\n",
       "      <td>manual</td>\n",
       "      <td>1.0</td>\n",
       "      <td>2001</td>\n",
       "      <td>8832.0</td>\n",
       "    </tr>\n",
       "    <tr>\n",
       "      <th>2</th>\n",
       "      <td>2021</td>\n",
       "      <td>January</td>\n",
       "      <td>004001-0</td>\n",
       "      <td>cb1t3xwwj1xp</td>\n",
       "      <td>GM - Chevrolet</td>\n",
       "      <td>Corsa Wind 1.0 MPFI / EFI 2p</td>\n",
       "      <td>Gasoline</td>\n",
       "      <td>manual</td>\n",
       "      <td>1.0</td>\n",
       "      <td>2000</td>\n",
       "      <td>8388.0</td>\n",
       "    </tr>\n",
       "    <tr>\n",
       "      <th>3</th>\n",
       "      <td>2021</td>\n",
       "      <td>January</td>\n",
       "      <td>004001-0</td>\n",
       "      <td>cb9gct6j65r0</td>\n",
       "      <td>GM - Chevrolet</td>\n",
       "      <td>Corsa Wind 1.0 MPFI / EFI 2p</td>\n",
       "      <td>Alcohol</td>\n",
       "      <td>manual</td>\n",
       "      <td>1.0</td>\n",
       "      <td>2000</td>\n",
       "      <td>8453.0</td>\n",
       "    </tr>\n",
       "    <tr>\n",
       "      <th>4</th>\n",
       "      <td>2021</td>\n",
       "      <td>January</td>\n",
       "      <td>004003-7</td>\n",
       "      <td>g15wg0gbz1fx</td>\n",
       "      <td>GM - Chevrolet</td>\n",
       "      <td>Corsa Pick-Up GL/ Champ 1.6 MPFI / EFI</td>\n",
       "      <td>Gasoline</td>\n",
       "      <td>manual</td>\n",
       "      <td>1.6</td>\n",
       "      <td>2001</td>\n",
       "      <td>12525.0</td>\n",
       "    </tr>\n",
       "  </tbody>\n",
       "</table>\n",
       "</div>"
      ],
      "text/plain": [
       "   year_of_reference month_of_reference fipe_code authentication  \\\n",
       "0               2021            January  004001-0   cfzlctzfwrcp   \n",
       "1               2021            January  004001-0   cdqwxwpw3y2p   \n",
       "2               2021            January  004001-0   cb1t3xwwj1xp   \n",
       "3               2021            January  004001-0   cb9gct6j65r0   \n",
       "4               2021            January  004003-7   g15wg0gbz1fx   \n",
       "\n",
       "            brand                                   model      fuel    gear  \\\n",
       "0  GM - Chevrolet            Corsa Wind 1.0 MPFI / EFI 2p  Gasoline  manual   \n",
       "1  GM - Chevrolet            Corsa Wind 1.0 MPFI / EFI 2p  Gasoline  manual   \n",
       "2  GM - Chevrolet            Corsa Wind 1.0 MPFI / EFI 2p  Gasoline  manual   \n",
       "3  GM - Chevrolet            Corsa Wind 1.0 MPFI / EFI 2p   Alcohol  manual   \n",
       "4  GM - Chevrolet  Corsa Pick-Up GL/ Champ 1.6 MPFI / EFI  Gasoline  manual   \n",
       "\n",
       "   engine_size  year_model  avg_price_brl  \n",
       "0          1.0        2002         9162.0  \n",
       "1          1.0        2001         8832.0  \n",
       "2          1.0        2000         8388.0  \n",
       "3          1.0        2000         8453.0  \n",
       "4          1.6        2001        12525.0  "
      ]
     },
     "execution_count": 206,
     "metadata": {},
     "output_type": "execute_result"
    },
    {
     "data": {
      "image/png": "[encoded data removed]",
      "text/plain": [
       "<Figure size 640x480 with 1 Axes>"
      ]
     },
     "metadata": {},
     "output_type": "display_data"
    }
   ],
   "source": [
    "# Gráfico de distribuição boxplot dos preços médios dos carros \n",
    "sns.boxplot(dados['avg_price_brl']).set_title('Distribuição dos preços médios')\n",
    "dados.head()"
   ]
  },
  {
   "cell_type": "code",
   "execution_count": 207,
   "metadata": {},
   "outputs": [
    {
     "data": {
      "text/html": [
       "<div>\n",
       "<style scoped>\n",
       "    .dataframe tbody tr th:only-of-type {\n",
       "        vertical-align: middle;\n",
       "    }\n",
       "\n",
       "    .dataframe tbody tr th {\n",
       "        vertical-align: top;\n",
       "    }\n",
       "\n",
       "    .dataframe thead th {\n",
       "        text-align: right;\n",
       "    }\n",
       "</style>\n",
       "<table border=\"1\" class=\"dataframe\">\n",
       "  <thead>\n",
       "    <tr style=\"text-align: right;\">\n",
       "      <th></th>\n",
       "      <th>year_of_reference</th>\n",
       "      <th>month_of_reference</th>\n",
       "      <th>fipe_code</th>\n",
       "      <th>authentication</th>\n",
       "      <th>brand</th>\n",
       "      <th>model</th>\n",
       "      <th>fuel</th>\n",
       "      <th>gear</th>\n",
       "      <th>engine_size</th>\n",
       "      <th>year_model</th>\n",
       "      <th>avg_price_brl</th>\n",
       "    </tr>\n",
       "  </thead>\n",
       "  <tbody>\n",
       "    <tr>\n",
       "      <th>0</th>\n",
       "      <td>2021</td>\n",
       "      <td>4</td>\n",
       "      <td>004001-0</td>\n",
       "      <td>cfzlctzfwrcp</td>\n",
       "      <td>GM - Chevrolet</td>\n",
       "      <td>Corsa Wind 1.0 MPFI / EFI 2p</td>\n",
       "      <td>Gasoline</td>\n",
       "      <td>manual</td>\n",
       "      <td>1.0</td>\n",
       "      <td>2002</td>\n",
       "      <td>9162.0</td>\n",
       "    </tr>\n",
       "    <tr>\n",
       "      <th>1</th>\n",
       "      <td>2021</td>\n",
       "      <td>4</td>\n",
       "      <td>004001-0</td>\n",
       "      <td>cdqwxwpw3y2p</td>\n",
       "      <td>GM - Chevrolet</td>\n",
       "      <td>Corsa Wind 1.0 MPFI / EFI 2p</td>\n",
       "      <td>Gasoline</td>\n",
       "      <td>manual</td>\n",
       "      <td>1.0</td>\n",
       "      <td>2001</td>\n",
       "      <td>8832.0</td>\n",
       "    </tr>\n",
       "    <tr>\n",
       "      <th>2</th>\n",
       "      <td>2021</td>\n",
       "      <td>4</td>\n",
       "      <td>004001-0</td>\n",
       "      <td>cb1t3xwwj1xp</td>\n",
       "      <td>GM - Chevrolet</td>\n",
       "      <td>Corsa Wind 1.0 MPFI / EFI 2p</td>\n",
       "      <td>Gasoline</td>\n",
       "      <td>manual</td>\n",
       "      <td>1.0</td>\n",
       "      <td>2000</td>\n",
       "      <td>8388.0</td>\n",
       "    </tr>\n",
       "    <tr>\n",
       "      <th>3</th>\n",
       "      <td>2021</td>\n",
       "      <td>4</td>\n",
       "      <td>004001-0</td>\n",
       "      <td>cb9gct6j65r0</td>\n",
       "      <td>GM - Chevrolet</td>\n",
       "      <td>Corsa Wind 1.0 MPFI / EFI 2p</td>\n",
       "      <td>Alcohol</td>\n",
       "      <td>manual</td>\n",
       "      <td>1.0</td>\n",
       "      <td>2000</td>\n",
       "      <td>8453.0</td>\n",
       "    </tr>\n",
       "    <tr>\n",
       "      <th>4</th>\n",
       "      <td>2021</td>\n",
       "      <td>4</td>\n",
       "      <td>004003-7</td>\n",
       "      <td>g15wg0gbz1fx</td>\n",
       "      <td>GM - Chevrolet</td>\n",
       "      <td>Corsa Pick-Up GL/ Champ 1.6 MPFI / EFI</td>\n",
       "      <td>Gasoline</td>\n",
       "      <td>manual</td>\n",
       "      <td>1.6</td>\n",
       "      <td>2001</td>\n",
       "      <td>12525.0</td>\n",
       "    </tr>\n",
       "  </tbody>\n",
       "</table>\n",
       "</div>"
      ],
      "text/plain": [
       "   year_of_reference  month_of_reference fipe_code authentication  \\\n",
       "0               2021                   4  004001-0   cfzlctzfwrcp   \n",
       "1               2021                   4  004001-0   cdqwxwpw3y2p   \n",
       "2               2021                   4  004001-0   cb1t3xwwj1xp   \n",
       "3               2021                   4  004001-0   cb9gct6j65r0   \n",
       "4               2021                   4  004003-7   g15wg0gbz1fx   \n",
       "\n",
       "            brand                                   model      fuel    gear  \\\n",
       "0  GM - Chevrolet            Corsa Wind 1.0 MPFI / EFI 2p  Gasoline  manual   \n",
       "1  GM - Chevrolet            Corsa Wind 1.0 MPFI / EFI 2p  Gasoline  manual   \n",
       "2  GM - Chevrolet            Corsa Wind 1.0 MPFI / EFI 2p  Gasoline  manual   \n",
       "3  GM - Chevrolet            Corsa Wind 1.0 MPFI / EFI 2p   Alcohol  manual   \n",
       "4  GM - Chevrolet  Corsa Pick-Up GL/ Champ 1.6 MPFI / EFI  Gasoline  manual   \n",
       "\n",
       "   engine_size  year_model  avg_price_brl  \n",
       "0          1.0        2002         9162.0  \n",
       "1          1.0        2001         8832.0  \n",
       "2          1.0        2000         8388.0  \n",
       "3          1.0        2000         8453.0  \n",
       "4          1.6        2001        12525.0  "
      ]
     },
     "execution_count": 207,
     "metadata": {},
     "output_type": "execute_result"
    }
   ],
   "source": [
    "# Transformar mês de referência em uma variável numérica\n",
    "\n",
    "dados['month_of_reference'] = LabelEncoder().fit_transform(dados['month_of_reference']) \n",
    "dados.head()"
   ]
  },
  {
   "cell_type": "code",
   "execution_count": 208,
   "metadata": {},
   "outputs": [
    {
     "data": {
      "text/html": [
       "<div>\n",
       "<style scoped>\n",
       "    .dataframe tbody tr th:only-of-type {\n",
       "        vertical-align: middle;\n",
       "    }\n",
       "\n",
       "    .dataframe tbody tr th {\n",
       "        vertical-align: top;\n",
       "    }\n",
       "\n",
       "    .dataframe thead th {\n",
       "        text-align: right;\n",
       "    }\n",
       "</style>\n",
       "<table border=\"1\" class=\"dataframe\">\n",
       "  <thead>\n",
       "    <tr style=\"text-align: right;\">\n",
       "      <th></th>\n",
       "      <th>year_of_reference</th>\n",
       "      <th>month_of_reference</th>\n",
       "      <th>fipe_code</th>\n",
       "      <th>authentication</th>\n",
       "      <th>brand</th>\n",
       "      <th>model</th>\n",
       "      <th>fuel</th>\n",
       "      <th>gear</th>\n",
       "      <th>engine_size</th>\n",
       "      <th>year_model</th>\n",
       "      <th>avg_price_brl</th>\n",
       "    </tr>\n",
       "  </thead>\n",
       "  <tbody>\n",
       "    <tr>\n",
       "      <th>0</th>\n",
       "      <td>2021</td>\n",
       "      <td>4</td>\n",
       "      <td>004001-0</td>\n",
       "      <td>cfzlctzfwrcp</td>\n",
       "      <td>2</td>\n",
       "      <td>Corsa Wind 1.0 MPFI / EFI 2p</td>\n",
       "      <td>Gasoline</td>\n",
       "      <td>manual</td>\n",
       "      <td>1.0</td>\n",
       "      <td>2002</td>\n",
       "      <td>9162.0</td>\n",
       "    </tr>\n",
       "    <tr>\n",
       "      <th>1</th>\n",
       "      <td>2021</td>\n",
       "      <td>4</td>\n",
       "      <td>004001-0</td>\n",
       "      <td>cdqwxwpw3y2p</td>\n",
       "      <td>2</td>\n",
       "      <td>Corsa Wind 1.0 MPFI / EFI 2p</td>\n",
       "      <td>Gasoline</td>\n",
       "      <td>manual</td>\n",
       "      <td>1.0</td>\n",
       "      <td>2001</td>\n",
       "      <td>8832.0</td>\n",
       "    </tr>\n",
       "    <tr>\n",
       "      <th>2</th>\n",
       "      <td>2021</td>\n",
       "      <td>4</td>\n",
       "      <td>004001-0</td>\n",
       "      <td>cb1t3xwwj1xp</td>\n",
       "      <td>2</td>\n",
       "      <td>Corsa Wind 1.0 MPFI / EFI 2p</td>\n",
       "      <td>Gasoline</td>\n",
       "      <td>manual</td>\n",
       "      <td>1.0</td>\n",
       "      <td>2000</td>\n",
       "      <td>8388.0</td>\n",
       "    </tr>\n",
       "    <tr>\n",
       "      <th>3</th>\n",
       "      <td>2021</td>\n",
       "      <td>4</td>\n",
       "      <td>004001-0</td>\n",
       "      <td>cb9gct6j65r0</td>\n",
       "      <td>2</td>\n",
       "      <td>Corsa Wind 1.0 MPFI / EFI 2p</td>\n",
       "      <td>Alcohol</td>\n",
       "      <td>manual</td>\n",
       "      <td>1.0</td>\n",
       "      <td>2000</td>\n",
       "      <td>8453.0</td>\n",
       "    </tr>\n",
       "    <tr>\n",
       "      <th>4</th>\n",
       "      <td>2021</td>\n",
       "      <td>4</td>\n",
       "      <td>004003-7</td>\n",
       "      <td>g15wg0gbz1fx</td>\n",
       "      <td>2</td>\n",
       "      <td>Corsa Pick-Up GL/ Champ 1.6 MPFI / EFI</td>\n",
       "      <td>Gasoline</td>\n",
       "      <td>manual</td>\n",
       "      <td>1.6</td>\n",
       "      <td>2001</td>\n",
       "      <td>12525.0</td>\n",
       "    </tr>\n",
       "  </tbody>\n",
       "</table>\n",
       "</div>"
      ],
      "text/plain": [
       "   year_of_reference  month_of_reference fipe_code authentication  brand  \\\n",
       "0               2021                   4  004001-0   cfzlctzfwrcp      2   \n",
       "1               2021                   4  004001-0   cdqwxwpw3y2p      2   \n",
       "2               2021                   4  004001-0   cb1t3xwwj1xp      2   \n",
       "3               2021                   4  004001-0   cb9gct6j65r0      2   \n",
       "4               2021                   4  004003-7   g15wg0gbz1fx      2   \n",
       "\n",
       "                                    model      fuel    gear  engine_size  \\\n",
       "0            Corsa Wind 1.0 MPFI / EFI 2p  Gasoline  manual          1.0   \n",
       "1            Corsa Wind 1.0 MPFI / EFI 2p  Gasoline  manual          1.0   \n",
       "2            Corsa Wind 1.0 MPFI / EFI 2p  Gasoline  manual          1.0   \n",
       "3            Corsa Wind 1.0 MPFI / EFI 2p   Alcohol  manual          1.0   \n",
       "4  Corsa Pick-Up GL/ Champ 1.6 MPFI / EFI  Gasoline  manual          1.6   \n",
       "\n",
       "   year_model  avg_price_brl  \n",
       "0        2002         9162.0  \n",
       "1        2001         8832.0  \n",
       "2        2000         8388.0  \n",
       "3        2000         8453.0  \n",
       "4        2001        12525.0  "
      ]
     },
     "execution_count": 208,
     "metadata": {},
     "output_type": "execute_result"
    }
   ],
   "source": [
    "# Transformar marca de carro em uma variável numérica\n",
    "dados['brand'] = LabelEncoder().fit_transform(dados['brand'])\n",
    "dados.head()"
   ]
  },
  {
   "cell_type": "code",
   "execution_count": 209,
   "metadata": {},
   "outputs": [
    {
     "data": {
      "text/html": [
       "<div>\n",
       "<style scoped>\n",
       "    .dataframe tbody tr th:only-of-type {\n",
       "        vertical-align: middle;\n",
       "    }\n",
       "\n",
       "    .dataframe tbody tr th {\n",
       "        vertical-align: top;\n",
       "    }\n",
       "\n",
       "    .dataframe thead th {\n",
       "        text-align: right;\n",
       "    }\n",
       "</style>\n",
       "<table border=\"1\" class=\"dataframe\">\n",
       "  <thead>\n",
       "    <tr style=\"text-align: right;\">\n",
       "      <th></th>\n",
       "      <th>year_of_reference</th>\n",
       "      <th>month_of_reference</th>\n",
       "      <th>fipe_code</th>\n",
       "      <th>authentication</th>\n",
       "      <th>brand</th>\n",
       "      <th>model</th>\n",
       "      <th>fuel</th>\n",
       "      <th>gear</th>\n",
       "      <th>engine_size</th>\n",
       "      <th>year_model</th>\n",
       "      <th>avg_price_brl</th>\n",
       "    </tr>\n",
       "  </thead>\n",
       "  <tbody>\n",
       "    <tr>\n",
       "      <th>0</th>\n",
       "      <td>2021</td>\n",
       "      <td>4</td>\n",
       "      <td>004001-0</td>\n",
       "      <td>cfzlctzfwrcp</td>\n",
       "      <td>2</td>\n",
       "      <td>297</td>\n",
       "      <td>Gasoline</td>\n",
       "      <td>manual</td>\n",
       "      <td>1.0</td>\n",
       "      <td>2002</td>\n",
       "      <td>9162.0</td>\n",
       "    </tr>\n",
       "    <tr>\n",
       "      <th>1</th>\n",
       "      <td>2021</td>\n",
       "      <td>4</td>\n",
       "      <td>004001-0</td>\n",
       "      <td>cdqwxwpw3y2p</td>\n",
       "      <td>2</td>\n",
       "      <td>297</td>\n",
       "      <td>Gasoline</td>\n",
       "      <td>manual</td>\n",
       "      <td>1.0</td>\n",
       "      <td>2001</td>\n",
       "      <td>8832.0</td>\n",
       "    </tr>\n",
       "    <tr>\n",
       "      <th>2</th>\n",
       "      <td>2021</td>\n",
       "      <td>4</td>\n",
       "      <td>004001-0</td>\n",
       "      <td>cb1t3xwwj1xp</td>\n",
       "      <td>2</td>\n",
       "      <td>297</td>\n",
       "      <td>Gasoline</td>\n",
       "      <td>manual</td>\n",
       "      <td>1.0</td>\n",
       "      <td>2000</td>\n",
       "      <td>8388.0</td>\n",
       "    </tr>\n",
       "    <tr>\n",
       "      <th>3</th>\n",
       "      <td>2021</td>\n",
       "      <td>4</td>\n",
       "      <td>004001-0</td>\n",
       "      <td>cb9gct6j65r0</td>\n",
       "      <td>2</td>\n",
       "      <td>297</td>\n",
       "      <td>Alcohol</td>\n",
       "      <td>manual</td>\n",
       "      <td>1.0</td>\n",
       "      <td>2000</td>\n",
       "      <td>8453.0</td>\n",
       "    </tr>\n",
       "    <tr>\n",
       "      <th>4</th>\n",
       "      <td>2021</td>\n",
       "      <td>4</td>\n",
       "      <td>004003-7</td>\n",
       "      <td>g15wg0gbz1fx</td>\n",
       "      <td>2</td>\n",
       "      <td>260</td>\n",
       "      <td>Gasoline</td>\n",
       "      <td>manual</td>\n",
       "      <td>1.6</td>\n",
       "      <td>2001</td>\n",
       "      <td>12525.0</td>\n",
       "    </tr>\n",
       "  </tbody>\n",
       "</table>\n",
       "</div>"
      ],
      "text/plain": [
       "   year_of_reference  month_of_reference fipe_code authentication  brand  \\\n",
       "0               2021                   4  004001-0   cfzlctzfwrcp      2   \n",
       "1               2021                   4  004001-0   cdqwxwpw3y2p      2   \n",
       "2               2021                   4  004001-0   cb1t3xwwj1xp      2   \n",
       "3               2021                   4  004001-0   cb9gct6j65r0      2   \n",
       "4               2021                   4  004003-7   g15wg0gbz1fx      2   \n",
       "\n",
       "   model      fuel    gear  engine_size  year_model  avg_price_brl  \n",
       "0    297  Gasoline  manual          1.0        2002         9162.0  \n",
       "1    297  Gasoline  manual          1.0        2001         8832.0  \n",
       "2    297  Gasoline  manual          1.0        2000         8388.0  \n",
       "3    297   Alcohol  manual          1.0        2000         8453.0  \n",
       "4    260  Gasoline  manual          1.6        2001        12525.0  "
      ]
     },
     "execution_count": 209,
     "metadata": {},
     "output_type": "execute_result"
    }
   ],
   "source": [
    "# Transformar modelo de carro em uma variável numérica\n",
    "dados['model'] = LabelEncoder().fit_transform(dados['model'])\n",
    "dados.head()"
   ]
  },
  {
   "cell_type": "code",
   "execution_count": 210,
   "metadata": {},
   "outputs": [
    {
     "data": {
      "text/html": [
       "<div>\n",
       "<style scoped>\n",
       "    .dataframe tbody tr th:only-of-type {\n",
       "        vertical-align: middle;\n",
       "    }\n",
       "\n",
       "    .dataframe tbody tr th {\n",
       "        vertical-align: top;\n",
       "    }\n",
       "\n",
       "    .dataframe thead th {\n",
       "        text-align: right;\n",
       "    }\n",
       "</style>\n",
       "<table border=\"1\" class=\"dataframe\">\n",
       "  <thead>\n",
       "    <tr style=\"text-align: right;\">\n",
       "      <th></th>\n",
       "      <th>year_of_reference</th>\n",
       "      <th>month_of_reference</th>\n",
       "      <th>fipe_code</th>\n",
       "      <th>authentication</th>\n",
       "      <th>brand</th>\n",
       "      <th>model</th>\n",
       "      <th>fuel</th>\n",
       "      <th>gear</th>\n",
       "      <th>engine_size</th>\n",
       "      <th>year_model</th>\n",
       "      <th>avg_price_brl</th>\n",
       "    </tr>\n",
       "  </thead>\n",
       "  <tbody>\n",
       "    <tr>\n",
       "      <th>0</th>\n",
       "      <td>2021</td>\n",
       "      <td>4</td>\n",
       "      <td>004001-0</td>\n",
       "      <td>cfzlctzfwrcp</td>\n",
       "      <td>2</td>\n",
       "      <td>297</td>\n",
       "      <td>2</td>\n",
       "      <td>manual</td>\n",
       "      <td>1.0</td>\n",
       "      <td>2002</td>\n",
       "      <td>9162.0</td>\n",
       "    </tr>\n",
       "    <tr>\n",
       "      <th>1</th>\n",
       "      <td>2021</td>\n",
       "      <td>4</td>\n",
       "      <td>004001-0</td>\n",
       "      <td>cdqwxwpw3y2p</td>\n",
       "      <td>2</td>\n",
       "      <td>297</td>\n",
       "      <td>2</td>\n",
       "      <td>manual</td>\n",
       "      <td>1.0</td>\n",
       "      <td>2001</td>\n",
       "      <td>8832.0</td>\n",
       "    </tr>\n",
       "    <tr>\n",
       "      <th>2</th>\n",
       "      <td>2021</td>\n",
       "      <td>4</td>\n",
       "      <td>004001-0</td>\n",
       "      <td>cb1t3xwwj1xp</td>\n",
       "      <td>2</td>\n",
       "      <td>297</td>\n",
       "      <td>2</td>\n",
       "      <td>manual</td>\n",
       "      <td>1.0</td>\n",
       "      <td>2000</td>\n",
       "      <td>8388.0</td>\n",
       "    </tr>\n",
       "    <tr>\n",
       "      <th>3</th>\n",
       "      <td>2021</td>\n",
       "      <td>4</td>\n",
       "      <td>004001-0</td>\n",
       "      <td>cb9gct6j65r0</td>\n",
       "      <td>2</td>\n",
       "      <td>297</td>\n",
       "      <td>0</td>\n",
       "      <td>manual</td>\n",
       "      <td>1.0</td>\n",
       "      <td>2000</td>\n",
       "      <td>8453.0</td>\n",
       "    </tr>\n",
       "    <tr>\n",
       "      <th>4</th>\n",
       "      <td>2021</td>\n",
       "      <td>4</td>\n",
       "      <td>004003-7</td>\n",
       "      <td>g15wg0gbz1fx</td>\n",
       "      <td>2</td>\n",
       "      <td>260</td>\n",
       "      <td>2</td>\n",
       "      <td>manual</td>\n",
       "      <td>1.6</td>\n",
       "      <td>2001</td>\n",
       "      <td>12525.0</td>\n",
       "    </tr>\n",
       "  </tbody>\n",
       "</table>\n",
       "</div>"
      ],
      "text/plain": [
       "   year_of_reference  month_of_reference fipe_code authentication  brand  \\\n",
       "0               2021                   4  004001-0   cfzlctzfwrcp      2   \n",
       "1               2021                   4  004001-0   cdqwxwpw3y2p      2   \n",
       "2               2021                   4  004001-0   cb1t3xwwj1xp      2   \n",
       "3               2021                   4  004001-0   cb9gct6j65r0      2   \n",
       "4               2021                   4  004003-7   g15wg0gbz1fx      2   \n",
       "\n",
       "   model  fuel    gear  engine_size  year_model  avg_price_brl  \n",
       "0    297     2  manual          1.0        2002         9162.0  \n",
       "1    297     2  manual          1.0        2001         8832.0  \n",
       "2    297     2  manual          1.0        2000         8388.0  \n",
       "3    297     0  manual          1.0        2000         8453.0  \n",
       "4    260     2  manual          1.6        2001        12525.0  "
      ]
     },
     "execution_count": 210,
     "metadata": {},
     "output_type": "execute_result"
    }
   ],
   "source": [
    "# Transformar tipo de combustível em uma variável numérica\n",
    "dados['fuel'] = LabelEncoder().fit_transform(dados['fuel'])\n",
    "dados.head()"
   ]
  },
  {
   "cell_type": "code",
   "execution_count": 211,
   "metadata": {},
   "outputs": [
    {
     "data": {
      "text/html": [
       "<div>\n",
       "<style scoped>\n",
       "    .dataframe tbody tr th:only-of-type {\n",
       "        vertical-align: middle;\n",
       "    }\n",
       "\n",
       "    .dataframe tbody tr th {\n",
       "        vertical-align: top;\n",
       "    }\n",
       "\n",
       "    .dataframe thead th {\n",
       "        text-align: right;\n",
       "    }\n",
       "</style>\n",
       "<table border=\"1\" class=\"dataframe\">\n",
       "  <thead>\n",
       "    <tr style=\"text-align: right;\">\n",
       "      <th></th>\n",
       "      <th>year_of_reference</th>\n",
       "      <th>month_of_reference</th>\n",
       "      <th>fipe_code</th>\n",
       "      <th>authentication</th>\n",
       "      <th>brand</th>\n",
       "      <th>model</th>\n",
       "      <th>fuel</th>\n",
       "      <th>gear</th>\n",
       "      <th>engine_size</th>\n",
       "      <th>year_model</th>\n",
       "      <th>avg_price_brl</th>\n",
       "    </tr>\n",
       "  </thead>\n",
       "  <tbody>\n",
       "    <tr>\n",
       "      <th>0</th>\n",
       "      <td>2021</td>\n",
       "      <td>4</td>\n",
       "      <td>004001-0</td>\n",
       "      <td>cfzlctzfwrcp</td>\n",
       "      <td>2</td>\n",
       "      <td>297</td>\n",
       "      <td>2</td>\n",
       "      <td>1</td>\n",
       "      <td>1.0</td>\n",
       "      <td>2002</td>\n",
       "      <td>9162.0</td>\n",
       "    </tr>\n",
       "    <tr>\n",
       "      <th>1</th>\n",
       "      <td>2021</td>\n",
       "      <td>4</td>\n",
       "      <td>004001-0</td>\n",
       "      <td>cdqwxwpw3y2p</td>\n",
       "      <td>2</td>\n",
       "      <td>297</td>\n",
       "      <td>2</td>\n",
       "      <td>1</td>\n",
       "      <td>1.0</td>\n",
       "      <td>2001</td>\n",
       "      <td>8832.0</td>\n",
       "    </tr>\n",
       "    <tr>\n",
       "      <th>2</th>\n",
       "      <td>2021</td>\n",
       "      <td>4</td>\n",
       "      <td>004001-0</td>\n",
       "      <td>cb1t3xwwj1xp</td>\n",
       "      <td>2</td>\n",
       "      <td>297</td>\n",
       "      <td>2</td>\n",
       "      <td>1</td>\n",
       "      <td>1.0</td>\n",
       "      <td>2000</td>\n",
       "      <td>8388.0</td>\n",
       "    </tr>\n",
       "    <tr>\n",
       "      <th>3</th>\n",
       "      <td>2021</td>\n",
       "      <td>4</td>\n",
       "      <td>004001-0</td>\n",
       "      <td>cb9gct6j65r0</td>\n",
       "      <td>2</td>\n",
       "      <td>297</td>\n",
       "      <td>0</td>\n",
       "      <td>1</td>\n",
       "      <td>1.0</td>\n",
       "      <td>2000</td>\n",
       "      <td>8453.0</td>\n",
       "    </tr>\n",
       "    <tr>\n",
       "      <th>4</th>\n",
       "      <td>2021</td>\n",
       "      <td>4</td>\n",
       "      <td>004003-7</td>\n",
       "      <td>g15wg0gbz1fx</td>\n",
       "      <td>2</td>\n",
       "      <td>260</td>\n",
       "      <td>2</td>\n",
       "      <td>1</td>\n",
       "      <td>1.6</td>\n",
       "      <td>2001</td>\n",
       "      <td>12525.0</td>\n",
       "    </tr>\n",
       "  </tbody>\n",
       "</table>\n",
       "</div>"
      ],
      "text/plain": [
       "   year_of_reference  month_of_reference fipe_code authentication  brand  \\\n",
       "0               2021                   4  004001-0   cfzlctzfwrcp      2   \n",
       "1               2021                   4  004001-0   cdqwxwpw3y2p      2   \n",
       "2               2021                   4  004001-0   cb1t3xwwj1xp      2   \n",
       "3               2021                   4  004001-0   cb9gct6j65r0      2   \n",
       "4               2021                   4  004003-7   g15wg0gbz1fx      2   \n",
       "\n",
       "   model  fuel  gear  engine_size  year_model  avg_price_brl  \n",
       "0    297     2     1          1.0        2002         9162.0  \n",
       "1    297     2     1          1.0        2001         8832.0  \n",
       "2    297     2     1          1.0        2000         8388.0  \n",
       "3    297     0     1          1.0        2000         8453.0  \n",
       "4    260     2     1          1.6        2001        12525.0  "
      ]
     },
     "execution_count": 211,
     "metadata": {},
     "output_type": "execute_result"
    }
   ],
   "source": [
    "# Transformar tipo de transmissão em uma variável numérica\n",
    "dados['gear'] = LabelEncoder().fit_transform(dados['gear'])\n",
    "dados.head()"
   ]
  },
  {
   "cell_type": "code",
   "execution_count": 212,
   "metadata": {},
   "outputs": [
    {
     "data": {
      "text/html": [
       "<div>\n",
       "<style scoped>\n",
       "    .dataframe tbody tr th:only-of-type {\n",
       "        vertical-align: middle;\n",
       "    }\n",
       "\n",
       "    .dataframe tbody tr th {\n",
       "        vertical-align: top;\n",
       "    }\n",
       "\n",
       "    .dataframe thead th {\n",
       "        text-align: right;\n",
       "    }\n",
       "</style>\n",
       "<table border=\"1\" class=\"dataframe\">\n",
       "  <thead>\n",
       "    <tr style=\"text-align: right;\">\n",
       "      <th></th>\n",
       "      <th>year_of_reference</th>\n",
       "      <th>month_of_reference</th>\n",
       "      <th>brand</th>\n",
       "      <th>model</th>\n",
       "      <th>fuel</th>\n",
       "      <th>gear</th>\n",
       "      <th>engine_size</th>\n",
       "      <th>year_model</th>\n",
       "      <th>avg_price_brl</th>\n",
       "    </tr>\n",
       "  </thead>\n",
       "  <tbody>\n",
       "    <tr>\n",
       "      <th>0</th>\n",
       "      <td>2021</td>\n",
       "      <td>4</td>\n",
       "      <td>2</td>\n",
       "      <td>297</td>\n",
       "      <td>2</td>\n",
       "      <td>1</td>\n",
       "      <td>1.0</td>\n",
       "      <td>2002</td>\n",
       "      <td>9162.0</td>\n",
       "    </tr>\n",
       "    <tr>\n",
       "      <th>1</th>\n",
       "      <td>2021</td>\n",
       "      <td>4</td>\n",
       "      <td>2</td>\n",
       "      <td>297</td>\n",
       "      <td>2</td>\n",
       "      <td>1</td>\n",
       "      <td>1.0</td>\n",
       "      <td>2001</td>\n",
       "      <td>8832.0</td>\n",
       "    </tr>\n",
       "    <tr>\n",
       "      <th>2</th>\n",
       "      <td>2021</td>\n",
       "      <td>4</td>\n",
       "      <td>2</td>\n",
       "      <td>297</td>\n",
       "      <td>2</td>\n",
       "      <td>1</td>\n",
       "      <td>1.0</td>\n",
       "      <td>2000</td>\n",
       "      <td>8388.0</td>\n",
       "    </tr>\n",
       "    <tr>\n",
       "      <th>3</th>\n",
       "      <td>2021</td>\n",
       "      <td>4</td>\n",
       "      <td>2</td>\n",
       "      <td>297</td>\n",
       "      <td>0</td>\n",
       "      <td>1</td>\n",
       "      <td>1.0</td>\n",
       "      <td>2000</td>\n",
       "      <td>8453.0</td>\n",
       "    </tr>\n",
       "    <tr>\n",
       "      <th>4</th>\n",
       "      <td>2021</td>\n",
       "      <td>4</td>\n",
       "      <td>2</td>\n",
       "      <td>260</td>\n",
       "      <td>2</td>\n",
       "      <td>1</td>\n",
       "      <td>1.6</td>\n",
       "      <td>2001</td>\n",
       "      <td>12525.0</td>\n",
       "    </tr>\n",
       "  </tbody>\n",
       "</table>\n",
       "</div>"
      ],
      "text/plain": [
       "   year_of_reference  month_of_reference  brand  model  fuel  gear  \\\n",
       "0               2021                   4      2    297     2     1   \n",
       "1               2021                   4      2    297     2     1   \n",
       "2               2021                   4      2    297     2     1   \n",
       "3               2021                   4      2    297     0     1   \n",
       "4               2021                   4      2    260     2     1   \n",
       "\n",
       "   engine_size  year_model  avg_price_brl  \n",
       "0          1.0        2002         9162.0  \n",
       "1          1.0        2001         8832.0  \n",
       "2          1.0        2000         8388.0  \n",
       "3          1.0        2000         8453.0  \n",
       "4          1.6        2001        12525.0  "
      ]
     },
     "execution_count": 212,
     "metadata": {},
     "output_type": "execute_result"
    }
   ],
   "source": [
    "# Remover as variáveis de entrada que não são consideradas importantes para a predição\n",
    "\n",
    "dados_interesting = dados.drop([\n",
    "  'fipe_code',\n",
    "  'authentication',\n",
    "  ], axis=1\n",
    ")\n",
    "dados_interesting.head()"
   ]
  },
  {
   "cell_type": "code",
   "execution_count": 213,
   "metadata": {},
   "outputs": [
    {
     "data": {
      "image/png": "[encoded data removed]",
      "text/plain": [
       "<Figure size 640x480 with 2 Axes>"
      ]
     },
     "metadata": {},
     "output_type": "display_data"
    }
   ],
   "source": [
    "# Mapa de correlação das variáveis numéricas com variável Target\n",
    "\n",
    "sns.heatmap(dados_interesting.corr(\"spearman\"), annot = True)\n",
    "plt.title(\"Mapa de Correlação das Variáveis Numéricas\\n\", fontsize = 18)\n",
    "plt.show()"
   ]
  },
  {
   "cell_type": "code",
   "execution_count": 214,
   "metadata": {},
   "outputs": [
    {
     "data": {
      "text/html": [
       "<div>\n",
       "<style scoped>\n",
       "    .dataframe tbody tr th:only-of-type {\n",
       "        vertical-align: middle;\n",
       "    }\n",
       "\n",
       "    .dataframe tbody tr th {\n",
       "        vertical-align: top;\n",
       "    }\n",
       "\n",
       "    .dataframe thead th {\n",
       "        text-align: right;\n",
       "    }\n",
       "</style>\n",
       "<table border=\"1\" class=\"dataframe\">\n",
       "  <thead>\n",
       "    <tr style=\"text-align: right;\">\n",
       "      <th></th>\n",
       "      <th>year_of_reference</th>\n",
       "      <th>month_of_reference</th>\n",
       "      <th>brand</th>\n",
       "      <th>model</th>\n",
       "      <th>fuel</th>\n",
       "      <th>gear</th>\n",
       "      <th>engine_size</th>\n",
       "      <th>year_model</th>\n",
       "    </tr>\n",
       "  </thead>\n",
       "  <tbody>\n",
       "    <tr>\n",
       "      <th>0</th>\n",
       "      <td>2021</td>\n",
       "      <td>4</td>\n",
       "      <td>2</td>\n",
       "      <td>297</td>\n",
       "      <td>2</td>\n",
       "      <td>1</td>\n",
       "      <td>1.0</td>\n",
       "      <td>2002</td>\n",
       "    </tr>\n",
       "    <tr>\n",
       "      <th>1</th>\n",
       "      <td>2021</td>\n",
       "      <td>4</td>\n",
       "      <td>2</td>\n",
       "      <td>297</td>\n",
       "      <td>2</td>\n",
       "      <td>1</td>\n",
       "      <td>1.0</td>\n",
       "      <td>2001</td>\n",
       "    </tr>\n",
       "    <tr>\n",
       "      <th>2</th>\n",
       "      <td>2021</td>\n",
       "      <td>4</td>\n",
       "      <td>2</td>\n",
       "      <td>297</td>\n",
       "      <td>2</td>\n",
       "      <td>1</td>\n",
       "      <td>1.0</td>\n",
       "      <td>2000</td>\n",
       "    </tr>\n",
       "    <tr>\n",
       "      <th>3</th>\n",
       "      <td>2021</td>\n",
       "      <td>4</td>\n",
       "      <td>2</td>\n",
       "      <td>297</td>\n",
       "      <td>0</td>\n",
       "      <td>1</td>\n",
       "      <td>1.0</td>\n",
       "      <td>2000</td>\n",
       "    </tr>\n",
       "    <tr>\n",
       "      <th>4</th>\n",
       "      <td>2021</td>\n",
       "      <td>4</td>\n",
       "      <td>2</td>\n",
       "      <td>260</td>\n",
       "      <td>2</td>\n",
       "      <td>1</td>\n",
       "      <td>1.6</td>\n",
       "      <td>2001</td>\n",
       "    </tr>\n",
       "  </tbody>\n",
       "</table>\n",
       "</div>"
      ],
      "text/plain": [
       "   year_of_reference  month_of_reference  brand  model  fuel  gear  \\\n",
       "0               2021                   4      2    297     2     1   \n",
       "1               2021                   4      2    297     2     1   \n",
       "2               2021                   4      2    297     2     1   \n",
       "3               2021                   4      2    297     0     1   \n",
       "4               2021                   4      2    260     2     1   \n",
       "\n",
       "   engine_size  year_model  \n",
       "0          1.0        2002  \n",
       "1          1.0        2001  \n",
       "2          1.0        2000  \n",
       "3          1.0        2000  \n",
       "4          1.6        2001  "
      ]
     },
     "execution_count": 214,
     "metadata": {},
     "output_type": "execute_result"
    }
   ],
   "source": [
    "# Variável X contém apenas variáveis numéricas de interesse para a análise, excluindo a variável target\n",
    "X = dados_interesting.drop(['avg_price_brl'], axis=1)\n",
    "X.head()"
   ]
  },
  {
   "cell_type": "code",
   "execution_count": 215,
   "metadata": {},
   "outputs": [
    {
     "data": {
      "text/plain": [
       "0     9162.0\n",
       "1     8832.0\n",
       "2     8388.0\n",
       "3     8453.0\n",
       "4    12525.0\n",
       "Name: avg_price_brl, dtype: float64"
      ]
     },
     "execution_count": 215,
     "metadata": {},
     "output_type": "execute_result"
    }
   ],
   "source": [
    "# Variável Y contém apenas a variável target - avg_price_brl\n",
    "Y = dados_interesting['avg_price_brl']\n",
    "Y.head()"
   ]
  },
  {
   "cell_type": "markdown",
   "metadata": {},
   "source": [
    "b. Crie partições contendo 75% dos dados para treino e 25% para teste"
   ]
  },
  {
   "cell_type": "code",
   "execution_count": 216,
   "metadata": {},
   "outputs": [],
   "source": [
    "# Divisão: 30% dos dados são de teste e 70% de treinamento\n",
    "X_train, x_test, Y_train, y_test = train_test_split(X, Y, test_size = 0.30, random_state = 42)"
   ]
  },
  {
   "cell_type": "code",
   "execution_count": 217,
   "metadata": {},
   "outputs": [
    {
     "name": "stdout",
     "output_type": "stream",
     "text": [
      "(141606, 8)\n"
     ]
    },
    {
     "data": {
      "text/html": [
       "<div>\n",
       "<style scoped>\n",
       "    .dataframe tbody tr th:only-of-type {\n",
       "        vertical-align: middle;\n",
       "    }\n",
       "\n",
       "    .dataframe tbody tr th {\n",
       "        vertical-align: top;\n",
       "    }\n",
       "\n",
       "    .dataframe thead th {\n",
       "        text-align: right;\n",
       "    }\n",
       "</style>\n",
       "<table border=\"1\" class=\"dataframe\">\n",
       "  <thead>\n",
       "    <tr style=\"text-align: right;\">\n",
       "      <th></th>\n",
       "      <th>year_of_reference</th>\n",
       "      <th>month_of_reference</th>\n",
       "      <th>brand</th>\n",
       "      <th>model</th>\n",
       "      <th>fuel</th>\n",
       "      <th>gear</th>\n",
       "      <th>engine_size</th>\n",
       "      <th>year_model</th>\n",
       "    </tr>\n",
       "  </thead>\n",
       "  <tbody>\n",
       "    <tr>\n",
       "      <th>100552</th>\n",
       "      <td>2022</td>\n",
       "      <td>4</td>\n",
       "      <td>1</td>\n",
       "      <td>412</td>\n",
       "      <td>2</td>\n",
       "      <td>1</td>\n",
       "      <td>1.6</td>\n",
       "      <td>2015</td>\n",
       "    </tr>\n",
       "  </tbody>\n",
       "</table>\n",
       "</div>"
      ],
      "text/plain": [
       "        year_of_reference  month_of_reference  brand  model  fuel  gear  \\\n",
       "100552               2022                   4      1    412     2     1   \n",
       "\n",
       "        engine_size  year_model  \n",
       "100552          1.6        2015  "
      ]
     },
     "execution_count": 217,
     "metadata": {},
     "output_type": "execute_result"
    }
   ],
   "source": [
    "# Observando os dados de treinamento\n",
    "print(X_train.shape)\n",
    "X_train.head(1)"
   ]
  },
  {
   "cell_type": "code",
   "execution_count": 218,
   "metadata": {},
   "outputs": [
    {
     "name": "stdout",
     "output_type": "stream",
     "text": [
      "(60689, 8)\n"
     ]
    },
    {
     "data": {
      "text/plain": [
       "180633    42595.0\n",
       "Name: avg_price_brl, dtype: float64"
      ]
     },
     "execution_count": 218,
     "metadata": {},
     "output_type": "execute_result"
    }
   ],
   "source": [
    "# Observando os dados de teste\n",
    "print(x_test.shape)\n",
    "y_test.head(1)"
   ]
  },
  {
   "cell_type": "code",
   "execution_count": 219,
   "metadata": {},
   "outputs": [
    {
     "data": {
      "text/plain": [
       "180633    42595.0\n",
       "13130     10989.0\n",
       "163315     9087.0\n",
       "121464    26965.0\n",
       "14044     57102.0\n",
       "Name: avg_price_brl, dtype: float64"
      ]
     },
     "execution_count": 219,
     "metadata": {},
     "output_type": "execute_result"
    }
   ],
   "source": [
    "# Observando a variável target\n",
    "y_test.head()"
   ]
  },
  {
   "cell_type": "markdown",
   "metadata": {},
   "source": [
    "c. Treine modelos RandomForest (biblioteca RandomForestRegressor) e XGBoost (biblioteca XGBRegressor) para predição dos preços dos carros"
   ]
  },
  {
   "cell_type": "markdown",
   "metadata": {},
   "source": [
    "Modelo Random Forest sem parametros"
   ]
  },
  {
   "cell_type": "code",
   "execution_count": 220,
   "metadata": {},
   "outputs": [],
   "source": [
    "# Algoritmo Random Forest, sem especificar nenhum parâmetro (número de árvores, número de ramificações, etc)\n",
    "model_rf = RandomForestRegressor()"
   ]
  },
  {
   "cell_type": "code",
   "execution_count": 221,
   "metadata": {},
   "outputs": [
    {
     "data": {
      "text/html": [
       "<style>#sk-container-id-6 {color: black;background-color: white;}#sk-container-id-6 pre{padding: 0;}#sk-container-id-6 div.sk-toggleable {background-color: white;}#sk-container-id-6 label.sk-toggleable__label {cursor: pointer;display: block;width: 100%;margin-bottom: 0;padding: 0.3em;box-sizing: border-box;text-align: center;}#sk-container-id-6 label.sk-toggleable__label-arrow:before {content: \"▸\";float: left;margin-right: 0.25em;color: #696969;}#sk-container-id-6 label.sk-toggleable__label-arrow:hover:before {color: black;}#sk-container-id-6 div.sk-estimator:hover label.sk-toggleable__label-arrow:before {color: black;}#sk-container-id-6 div.sk-toggleable__content {max-height: 0;max-width: 0;overflow: hidden;text-align: left;background-color: #f0f8ff;}#sk-container-id-6 div.sk-toggleable__content pre {margin: 0.2em;color: black;border-radius: 0.25em;background-color: #f0f8ff;}#sk-container-id-6 input.sk-toggleable__control:checked~div.sk-toggleable__content {max-height: 200px;max-width: 100%;overflow: auto;}#sk-container-id-6 input.sk-toggleable__control:checked~label.sk-toggleable__label-arrow:before {content: \"▾\";}#sk-container-id-6 div.sk-estimator input.sk-toggleable__control:checked~label.sk-toggleable__label {background-color: #d4ebff;}#sk-container-id-6 div.sk-label input.sk-toggleable__control:checked~label.sk-toggleable__label {background-color: #d4ebff;}#sk-container-id-6 input.sk-hidden--visually {border: 0;clip: rect(1px 1px 1px 1px);clip: rect(1px, 1px, 1px, 1px);height: 1px;margin: -1px;overflow: hidden;padding: 0;position: absolute;width: 1px;}#sk-container-id-6 div.sk-estimator {font-family: monospace;background-color: #f0f8ff;border: 1px dotted black;border-radius: 0.25em;box-sizing: border-box;margin-bottom: 0.5em;}#sk-container-id-6 div.sk-estimator:hover {background-color: #d4ebff;}#sk-container-id-6 div.sk-parallel-item::after {content: \"\";width: 100%;border-bottom: 1px solid gray;flex-grow: 1;}#sk-container-id-6 div.sk-label:hover label.sk-toggleable__label {background-color: #d4ebff;}#sk-container-id-6 div.sk-serial::before {content: \"\";position: absolute;border-left: 1px solid gray;box-sizing: border-box;top: 0;bottom: 0;left: 50%;z-index: 0;}#sk-container-id-6 div.sk-serial {display: flex;flex-direction: column;align-items: center;background-color: white;padding-right: 0.2em;padding-left: 0.2em;position: relative;}#sk-container-id-6 div.sk-item {position: relative;z-index: 1;}#sk-container-id-6 div.sk-parallel {display: flex;align-items: stretch;justify-content: center;background-color: white;position: relative;}#sk-container-id-6 div.sk-item::before, #sk-container-id-6 div.sk-parallel-item::before {content: \"\";position: absolute;border-left: 1px solid gray;box-sizing: border-box;top: 0;bottom: 0;left: 50%;z-index: -1;}#sk-container-id-6 div.sk-parallel-item {display: flex;flex-direction: column;z-index: 1;position: relative;background-color: white;}#sk-container-id-6 div.sk-parallel-item:first-child::after {align-self: flex-end;width: 50%;}#sk-container-id-6 div.sk-parallel-item:last-child::after {align-self: flex-start;width: 50%;}#sk-container-id-6 div.sk-parallel-item:only-child::after {width: 0;}#sk-container-id-6 div.sk-dashed-wrapped {border: 1px dashed gray;margin: 0 0.4em 0.5em 0.4em;box-sizing: border-box;padding-bottom: 0.4em;background-color: white;}#sk-container-id-6 div.sk-label label {font-family: monospace;font-weight: bold;display: inline-block;line-height: 1.2em;}#sk-container-id-6 div.sk-label-container {text-align: center;}#sk-container-id-6 div.sk-container {/* jupyter's `normalize.less` sets `[hidden] { display: none; }` but bootstrap.min.css set `[hidden] { display: none !important; }` so we also need the `!important` here to be able to override the default hidden behavior on the sphinx rendered scikit-learn.org. See: https://github.com/scikit-learn/scikit-learn/issues/21755 */display: inline-block !important;position: relative;}#sk-container-id-6 div.sk-text-repr-fallback {display: none;}</style><div id=\"sk-container-id-6\" class=\"sk-top-container\"><div class=\"sk-text-repr-fallback\"><pre>RandomForestRegressor()</pre><b>In a Jupyter environment, please rerun this cell to show the HTML representation or trust the notebook. <br />On GitHub, the HTML representation is unable to render, please try loading this page with nbviewer.org.</b></div><div class=\"sk-container\" hidden><div class=\"sk-item\"><div class=\"sk-estimator sk-toggleable\"><input class=\"sk-toggleable__control sk-hidden--visually\" id=\"sk-estimator-id-6\" type=\"checkbox\" checked><label for=\"sk-estimator-id-6\" class=\"sk-toggleable__label sk-toggleable__label-arrow\">RandomForestRegressor</label><div class=\"sk-toggleable__content\"><pre>RandomForestRegressor()</pre></div></div></div></div></div>"
      ],
      "text/plain": [
       "RandomForestRegressor()"
      ]
     },
     "execution_count": 221,
     "metadata": {},
     "output_type": "execute_result"
    }
   ],
   "source": [
    "# Ajuste do modelo, de acordo com as variáveis de treinamento\n",
    "model_rf.fit(X_train, Y_train)"
   ]
  },
  {
   "cell_type": "markdown",
   "metadata": {},
   "source": [
    "Agora, testando o mesmo modelo, mas utilizando parâmetros do algoritmo Random Forest"
   ]
  },
  {
   "cell_type": "code",
   "execution_count": 222,
   "metadata": {},
   "outputs": [],
   "source": [
    "# Random Forest com os hiperparametros: \n",
    "# max_depth -> profundidade máxima em cada árvore\n",
    "# min_samples_leaf -> apenas folhas com determinado número mínimo de amostras\n",
    "# min_samples_split -> o número mínimo necessário de amostras que um nó deve ter para ser divido (ou expandido)\n",
    "# n_estimators -> o número de árvores decisão que serão criadas\n",
    "# random_state -> serve para garantir a reprodutibilidade dos resultados. Controla a randomização aplicada.\n",
    "\n",
    "model_rf_paramenters = RandomForestRegressor(\n",
    "  max_depth=29,\n",
    "  min_samples_leaf=32,\n",
    "  min_samples_split=28,\n",
    "  n_estimators=208,\n",
    "  random_state=43\n",
    ")"
   ]
  },
  {
   "cell_type": "code",
   "execution_count": 223,
   "metadata": {},
   "outputs": [
    {
     "data": {
      "text/html": [
       "<style>#sk-container-id-7 {color: black;background-color: white;}#sk-container-id-7 pre{padding: 0;}#sk-container-id-7 div.sk-toggleable {background-color: white;}#sk-container-id-7 label.sk-toggleable__label {cursor: pointer;display: block;width: 100%;margin-bottom: 0;padding: 0.3em;box-sizing: border-box;text-align: center;}#sk-container-id-7 label.sk-toggleable__label-arrow:before {content: \"▸\";float: left;margin-right: 0.25em;color: #696969;}#sk-container-id-7 label.sk-toggleable__label-arrow:hover:before {color: black;}#sk-container-id-7 div.sk-estimator:hover label.sk-toggleable__label-arrow:before {color: black;}#sk-container-id-7 div.sk-toggleable__content {max-height: 0;max-width: 0;overflow: hidden;text-align: left;background-color: #f0f8ff;}#sk-container-id-7 div.sk-toggleable__content pre {margin: 0.2em;color: black;border-radius: 0.25em;background-color: #f0f8ff;}#sk-container-id-7 input.sk-toggleable__control:checked~div.sk-toggleable__content {max-height: 200px;max-width: 100%;overflow: auto;}#sk-container-id-7 input.sk-toggleable__control:checked~label.sk-toggleable__label-arrow:before {content: \"▾\";}#sk-container-id-7 div.sk-estimator input.sk-toggleable__control:checked~label.sk-toggleable__label {background-color: #d4ebff;}#sk-container-id-7 div.sk-label input.sk-toggleable__control:checked~label.sk-toggleable__label {background-color: #d4ebff;}#sk-container-id-7 input.sk-hidden--visually {border: 0;clip: rect(1px 1px 1px 1px);clip: rect(1px, 1px, 1px, 1px);height: 1px;margin: -1px;overflow: hidden;padding: 0;position: absolute;width: 1px;}#sk-container-id-7 div.sk-estimator {font-family: monospace;background-color: #f0f8ff;border: 1px dotted black;border-radius: 0.25em;box-sizing: border-box;margin-bottom: 0.5em;}#sk-container-id-7 div.sk-estimator:hover {background-color: #d4ebff;}#sk-container-id-7 div.sk-parallel-item::after {content: \"\";width: 100%;border-bottom: 1px solid gray;flex-grow: 1;}#sk-container-id-7 div.sk-label:hover label.sk-toggleable__label {background-color: #d4ebff;}#sk-container-id-7 div.sk-serial::before {content: \"\";position: absolute;border-left: 1px solid gray;box-sizing: border-box;top: 0;bottom: 0;left: 50%;z-index: 0;}#sk-container-id-7 div.sk-serial {display: flex;flex-direction: column;align-items: center;background-color: white;padding-right: 0.2em;padding-left: 0.2em;position: relative;}#sk-container-id-7 div.sk-item {position: relative;z-index: 1;}#sk-container-id-7 div.sk-parallel {display: flex;align-items: stretch;justify-content: center;background-color: white;position: relative;}#sk-container-id-7 div.sk-item::before, #sk-container-id-7 div.sk-parallel-item::before {content: \"\";position: absolute;border-left: 1px solid gray;box-sizing: border-box;top: 0;bottom: 0;left: 50%;z-index: -1;}#sk-container-id-7 div.sk-parallel-item {display: flex;flex-direction: column;z-index: 1;position: relative;background-color: white;}#sk-container-id-7 div.sk-parallel-item:first-child::after {align-self: flex-end;width: 50%;}#sk-container-id-7 div.sk-parallel-item:last-child::after {align-self: flex-start;width: 50%;}#sk-container-id-7 div.sk-parallel-item:only-child::after {width: 0;}#sk-container-id-7 div.sk-dashed-wrapped {border: 1px dashed gray;margin: 0 0.4em 0.5em 0.4em;box-sizing: border-box;padding-bottom: 0.4em;background-color: white;}#sk-container-id-7 div.sk-label label {font-family: monospace;font-weight: bold;display: inline-block;line-height: 1.2em;}#sk-container-id-7 div.sk-label-container {text-align: center;}#sk-container-id-7 div.sk-container {/* jupyter's `normalize.less` sets `[hidden] { display: none; }` but bootstrap.min.css set `[hidden] { display: none !important; }` so we also need the `!important` here to be able to override the default hidden behavior on the sphinx rendered scikit-learn.org. See: https://github.com/scikit-learn/scikit-learn/issues/21755 */display: inline-block !important;position: relative;}#sk-container-id-7 div.sk-text-repr-fallback {display: none;}</style><div id=\"sk-container-id-7\" class=\"sk-top-container\"><div class=\"sk-text-repr-fallback\"><pre>RandomForestRegressor(max_depth=29, min_samples_leaf=32, min_samples_split=28,\n",
       "                      n_estimators=208, random_state=43)</pre><b>In a Jupyter environment, please rerun this cell to show the HTML representation or trust the notebook. <br />On GitHub, the HTML representation is unable to render, please try loading this page with nbviewer.org.</b></div><div class=\"sk-container\" hidden><div class=\"sk-item\"><div class=\"sk-estimator sk-toggleable\"><input class=\"sk-toggleable__control sk-hidden--visually\" id=\"sk-estimator-id-7\" type=\"checkbox\" checked><label for=\"sk-estimator-id-7\" class=\"sk-toggleable__label sk-toggleable__label-arrow\">RandomForestRegressor</label><div class=\"sk-toggleable__content\"><pre>RandomForestRegressor(max_depth=29, min_samples_leaf=32, min_samples_split=28,\n",
       "                      n_estimators=208, random_state=43)</pre></div></div></div></div></div>"
      ],
      "text/plain": [
       "RandomForestRegressor(max_depth=29, min_samples_leaf=32, min_samples_split=28,\n",
       "                      n_estimators=208, random_state=43)"
      ]
     },
     "execution_count": 223,
     "metadata": {},
     "output_type": "execute_result"
    }
   ],
   "source": [
    "# Ajuste do modelo, de acordo com as variáveis de treinamento\n",
    "model_rf_paramenters.fit(X_train, Y_train)"
   ]
  },
  {
   "cell_type": "markdown",
   "metadata": {},
   "source": [
    "Agora, usando o XGboost. Biblioteca XGBRegressor sem parametros"
   ]
  },
  {
   "cell_type": "code",
   "execution_count": 224,
   "metadata": {},
   "outputs": [],
   "source": [
    "# Algoritmo XGBoost sem parametros\n",
    "model_xg = XGBRegressor()"
   ]
  },
  {
   "cell_type": "code",
   "execution_count": 225,
   "metadata": {},
   "outputs": [
    {
     "data": {
      "text/html": [
       "<style>#sk-container-id-8 {color: black;background-color: white;}#sk-container-id-8 pre{padding: 0;}#sk-container-id-8 div.sk-toggleable {background-color: white;}#sk-container-id-8 label.sk-toggleable__label {cursor: pointer;display: block;width: 100%;margin-bottom: 0;padding: 0.3em;box-sizing: border-box;text-align: center;}#sk-container-id-8 label.sk-toggleable__label-arrow:before {content: \"▸\";float: left;margin-right: 0.25em;color: #696969;}#sk-container-id-8 label.sk-toggleable__label-arrow:hover:before {color: black;}#sk-container-id-8 div.sk-estimator:hover label.sk-toggleable__label-arrow:before {color: black;}#sk-container-id-8 div.sk-toggleable__content {max-height: 0;max-width: 0;overflow: hidden;text-align: left;background-color: #f0f8ff;}#sk-container-id-8 div.sk-toggleable__content pre {margin: 0.2em;color: black;border-radius: 0.25em;background-color: #f0f8ff;}#sk-container-id-8 input.sk-toggleable__control:checked~div.sk-toggleable__content {max-height: 200px;max-width: 100%;overflow: auto;}#sk-container-id-8 input.sk-toggleable__control:checked~label.sk-toggleable__label-arrow:before {content: \"▾\";}#sk-container-id-8 div.sk-estimator input.sk-toggleable__control:checked~label.sk-toggleable__label {background-color: #d4ebff;}#sk-container-id-8 div.sk-label input.sk-toggleable__control:checked~label.sk-toggleable__label {background-color: #d4ebff;}#sk-container-id-8 input.sk-hidden--visually {border: 0;clip: rect(1px 1px 1px 1px);clip: rect(1px, 1px, 1px, 1px);height: 1px;margin: -1px;overflow: hidden;padding: 0;position: absolute;width: 1px;}#sk-container-id-8 div.sk-estimator {font-family: monospace;background-color: #f0f8ff;border: 1px dotted black;border-radius: 0.25em;box-sizing: border-box;margin-bottom: 0.5em;}#sk-container-id-8 div.sk-estimator:hover {background-color: #d4ebff;}#sk-container-id-8 div.sk-parallel-item::after {content: \"\";width: 100%;border-bottom: 1px solid gray;flex-grow: 1;}#sk-container-id-8 div.sk-label:hover label.sk-toggleable__label {background-color: #d4ebff;}#sk-container-id-8 div.sk-serial::before {content: \"\";position: absolute;border-left: 1px solid gray;box-sizing: border-box;top: 0;bottom: 0;left: 50%;z-index: 0;}#sk-container-id-8 div.sk-serial {display: flex;flex-direction: column;align-items: center;background-color: white;padding-right: 0.2em;padding-left: 0.2em;position: relative;}#sk-container-id-8 div.sk-item {position: relative;z-index: 1;}#sk-container-id-8 div.sk-parallel {display: flex;align-items: stretch;justify-content: center;background-color: white;position: relative;}#sk-container-id-8 div.sk-item::before, #sk-container-id-8 div.sk-parallel-item::before {content: \"\";position: absolute;border-left: 1px solid gray;box-sizing: border-box;top: 0;bottom: 0;left: 50%;z-index: -1;}#sk-container-id-8 div.sk-parallel-item {display: flex;flex-direction: column;z-index: 1;position: relative;background-color: white;}#sk-container-id-8 div.sk-parallel-item:first-child::after {align-self: flex-end;width: 50%;}#sk-container-id-8 div.sk-parallel-item:last-child::after {align-self: flex-start;width: 50%;}#sk-container-id-8 div.sk-parallel-item:only-child::after {width: 0;}#sk-container-id-8 div.sk-dashed-wrapped {border: 1px dashed gray;margin: 0 0.4em 0.5em 0.4em;box-sizing: border-box;padding-bottom: 0.4em;background-color: white;}#sk-container-id-8 div.sk-label label {font-family: monospace;font-weight: bold;display: inline-block;line-height: 1.2em;}#sk-container-id-8 div.sk-label-container {text-align: center;}#sk-container-id-8 div.sk-container {/* jupyter's `normalize.less` sets `[hidden] { display: none; }` but bootstrap.min.css set `[hidden] { display: none !important; }` so we also need the `!important` here to be able to override the default hidden behavior on the sphinx rendered scikit-learn.org. See: https://github.com/scikit-learn/scikit-learn/issues/21755 */display: inline-block !important;position: relative;}#sk-container-id-8 div.sk-text-repr-fallback {display: none;}</style><div id=\"sk-container-id-8\" class=\"sk-top-container\"><div class=\"sk-text-repr-fallback\"><pre>XGBRegressor(base_score=None, booster=None, callbacks=None,\n",
       "             colsample_bylevel=None, colsample_bynode=None,\n",
       "             colsample_bytree=None, device=None, early_stopping_rounds=None,\n",
       "             enable_categorical=False, eval_metric=None, feature_types=None,\n",
       "             gamma=None, grow_policy=None, importance_type=None,\n",
       "             interaction_constraints=None, learning_rate=None, max_bin=None,\n",
       "             max_cat_threshold=None, max_cat_to_onehot=None,\n",
       "             max_delta_step=None, max_depth=None, max_leaves=None,\n",
       "             min_child_weight=None, missing=nan, monotone_constraints=None,\n",
       "             multi_strategy=None, n_estimators=None, n_jobs=None,\n",
       "             num_parallel_tree=None, random_state=None, ...)</pre><b>In a Jupyter environment, please rerun this cell to show the HTML representation or trust the notebook. <br />On GitHub, the HTML representation is unable to render, please try loading this page with nbviewer.org.</b></div><div class=\"sk-container\" hidden><div class=\"sk-item\"><div class=\"sk-estimator sk-toggleable\"><input class=\"sk-toggleable__control sk-hidden--visually\" id=\"sk-estimator-id-8\" type=\"checkbox\" checked><label for=\"sk-estimator-id-8\" class=\"sk-toggleable__label sk-toggleable__label-arrow\">XGBRegressor</label><div class=\"sk-toggleable__content\"><pre>XGBRegressor(base_score=None, booster=None, callbacks=None,\n",
       "             colsample_bylevel=None, colsample_bynode=None,\n",
       "             colsample_bytree=None, device=None, early_stopping_rounds=None,\n",
       "             enable_categorical=False, eval_metric=None, feature_types=None,\n",
       "             gamma=None, grow_policy=None, importance_type=None,\n",
       "             interaction_constraints=None, learning_rate=None, max_bin=None,\n",
       "             max_cat_threshold=None, max_cat_to_onehot=None,\n",
       "             max_delta_step=None, max_depth=None, max_leaves=None,\n",
       "             min_child_weight=None, missing=nan, monotone_constraints=None,\n",
       "             multi_strategy=None, n_estimators=None, n_jobs=None,\n",
       "             num_parallel_tree=None, random_state=None, ...)</pre></div></div></div></div></div>"
      ],
      "text/plain": [
       "XGBRegressor(base_score=None, booster=None, callbacks=None,\n",
       "             colsample_bylevel=None, colsample_bynode=None,\n",
       "             colsample_bytree=None, device=None, early_stopping_rounds=None,\n",
       "             enable_categorical=False, eval_metric=None, feature_types=None,\n",
       "             gamma=None, grow_policy=None, importance_type=None,\n",
       "             interaction_constraints=None, learning_rate=None, max_bin=None,\n",
       "             max_cat_threshold=None, max_cat_to_onehot=None,\n",
       "             max_delta_step=None, max_depth=None, max_leaves=None,\n",
       "             min_child_weight=None, missing=nan, monotone_constraints=None,\n",
       "             multi_strategy=None, n_estimators=None, n_jobs=None,\n",
       "             num_parallel_tree=None, random_state=None, ...)"
      ]
     },
     "execution_count": 225,
     "metadata": {},
     "output_type": "execute_result"
    }
   ],
   "source": [
    "# Ajuste do modelo, de acordo com as variáveis de treinamento\n",
    "model_xg.fit(X_train, Y_train)"
   ]
  },
  {
   "cell_type": "markdown",
   "metadata": {},
   "source": [
    "Agora, usando o XGBoostRegressor com os 17 parâmetros mais conhecidos"
   ]
  },
  {
   "cell_type": "code",
   "execution_count": 226,
   "metadata": {},
   "outputs": [],
   "source": [
    "# learning_rate -> Taxa de aprendizado ou encolhimento do tamanho do passo usado em cada iteração de boosting para previnir o overfitting\n",
    "# n_estimators -> The number of boosting rounds (trees) to be run,\n",
    "# max_depth -> Maximum depth of a tree. Increasing this value makes the model more complex and can lead to overfitting,\n",
    "# min_child_weight -> Minimum sum of instance weight (hessian) needed in a child. It helps control overfitting by constraining the minimum amount of samples required to split a node.,\n",
    "# gamma -> Minimum loss reduction required to make a further partition on a leaf node of the tree. It acts as a regularization parameter by controlling the complexity of the trees.,\n",
    "# subsample -> controls the fraction of the training data to be randomly sampled for growing trees in each boosting iteration,\n",
    "# colsample_bytree -> controls the fraction of features (columns) to be randomly sampled for each tree construction,\n",
    "# colsample_bynode ->  which is to control feature subsampling at different levels of the tree.,\n",
    "# reg_alpha -> used to control the L1 regularization term on the weights of the features.,\n",
    "# reg_lambda -> used to control the L2 regularization term on the weights of the features,\n",
    "# scale_pos_weight -> is used to balance the class distribution in binary classification problems when the classes are imbalanced,\n",
    "# base_score -> sets the initial prediction score of all instances. It's the global bias term that controls the global prediction,\n",
    "# random_state -> that allows you to set the seed for the random number generator in XGBoost,\n",
    "# objective -> specifies the learning task and the corresponding objective function to be optimized during training',\n",
    "# booster -> determines the type of booster to use during the training process,\n",
    "# n_jobs -> determines the number of parallel threads or processes to use during training,\n",
    "\n",
    "# Algoritmo XGBoost com parametros\n",
    "model_parameters_xg = XGBRegressor(\n",
    "  learning_rate=1, \n",
    "  n_estimators=100,\n",
    "  max_depth=25,\n",
    "  min_child_weight=1,\n",
    "  gamma=0,\n",
    "  subsample=0.8,\n",
    "  colsample_bytree=0.8,\n",
    "  reg_alpha=0,\n",
    "  reg_lambda=1,\n",
    "  random_state=42,\n",
    "  n_jobs=-1\n",
    ")"
   ]
  },
  {
   "cell_type": "code",
   "execution_count": 227,
   "metadata": {},
   "outputs": [
    {
     "data": {
      "text/html": [
       "<style>#sk-container-id-9 {color: black;background-color: white;}#sk-container-id-9 pre{padding: 0;}#sk-container-id-9 div.sk-toggleable {background-color: white;}#sk-container-id-9 label.sk-toggleable__label {cursor: pointer;display: block;width: 100%;margin-bottom: 0;padding: 0.3em;box-sizing: border-box;text-align: center;}#sk-container-id-9 label.sk-toggleable__label-arrow:before {content: \"▸\";float: left;margin-right: 0.25em;color: #696969;}#sk-container-id-9 label.sk-toggleable__label-arrow:hover:before {color: black;}#sk-container-id-9 div.sk-estimator:hover label.sk-toggleable__label-arrow:before {color: black;}#sk-container-id-9 div.sk-toggleable__content {max-height: 0;max-width: 0;overflow: hidden;text-align: left;background-color: #f0f8ff;}#sk-container-id-9 div.sk-toggleable__content pre {margin: 0.2em;color: black;border-radius: 0.25em;background-color: #f0f8ff;}#sk-container-id-9 input.sk-toggleable__control:checked~div.sk-toggleable__content {max-height: 200px;max-width: 100%;overflow: auto;}#sk-container-id-9 input.sk-toggleable__control:checked~label.sk-toggleable__label-arrow:before {content: \"▾\";}#sk-container-id-9 div.sk-estimator input.sk-toggleable__control:checked~label.sk-toggleable__label {background-color: #d4ebff;}#sk-container-id-9 div.sk-label input.sk-toggleable__control:checked~label.sk-toggleable__label {background-color: #d4ebff;}#sk-container-id-9 input.sk-hidden--visually {border: 0;clip: rect(1px 1px 1px 1px);clip: rect(1px, 1px, 1px, 1px);height: 1px;margin: -1px;overflow: hidden;padding: 0;position: absolute;width: 1px;}#sk-container-id-9 div.sk-estimator {font-family: monospace;background-color: #f0f8ff;border: 1px dotted black;border-radius: 0.25em;box-sizing: border-box;margin-bottom: 0.5em;}#sk-container-id-9 div.sk-estimator:hover {background-color: #d4ebff;}#sk-container-id-9 div.sk-parallel-item::after {content: \"\";width: 100%;border-bottom: 1px solid gray;flex-grow: 1;}#sk-container-id-9 div.sk-label:hover label.sk-toggleable__label {background-color: #d4ebff;}#sk-container-id-9 div.sk-serial::before {content: \"\";position: absolute;border-left: 1px solid gray;box-sizing: border-box;top: 0;bottom: 0;left: 50%;z-index: 0;}#sk-container-id-9 div.sk-serial {display: flex;flex-direction: column;align-items: center;background-color: white;padding-right: 0.2em;padding-left: 0.2em;position: relative;}#sk-container-id-9 div.sk-item {position: relative;z-index: 1;}#sk-container-id-9 div.sk-parallel {display: flex;align-items: stretch;justify-content: center;background-color: white;position: relative;}#sk-container-id-9 div.sk-item::before, #sk-container-id-9 div.sk-parallel-item::before {content: \"\";position: absolute;border-left: 1px solid gray;box-sizing: border-box;top: 0;bottom: 0;left: 50%;z-index: -1;}#sk-container-id-9 div.sk-parallel-item {display: flex;flex-direction: column;z-index: 1;position: relative;background-color: white;}#sk-container-id-9 div.sk-parallel-item:first-child::after {align-self: flex-end;width: 50%;}#sk-container-id-9 div.sk-parallel-item:last-child::after {align-self: flex-start;width: 50%;}#sk-container-id-9 div.sk-parallel-item:only-child::after {width: 0;}#sk-container-id-9 div.sk-dashed-wrapped {border: 1px dashed gray;margin: 0 0.4em 0.5em 0.4em;box-sizing: border-box;padding-bottom: 0.4em;background-color: white;}#sk-container-id-9 div.sk-label label {font-family: monospace;font-weight: bold;display: inline-block;line-height: 1.2em;}#sk-container-id-9 div.sk-label-container {text-align: center;}#sk-container-id-9 div.sk-container {/* jupyter's `normalize.less` sets `[hidden] { display: none; }` but bootstrap.min.css set `[hidden] { display: none !important; }` so we also need the `!important` here to be able to override the default hidden behavior on the sphinx rendered scikit-learn.org. See: https://github.com/scikit-learn/scikit-learn/issues/21755 */display: inline-block !important;position: relative;}#sk-container-id-9 div.sk-text-repr-fallback {display: none;}</style><div id=\"sk-container-id-9\" class=\"sk-top-container\"><div class=\"sk-text-repr-fallback\"><pre>XGBRegressor(base_score=None, booster=None, callbacks=None,\n",
       "             colsample_bylevel=None, colsample_bynode=None,\n",
       "             colsample_bytree=0.8, device=None, early_stopping_rounds=None,\n",
       "             enable_categorical=False, eval_metric=None, feature_types=None,\n",
       "             gamma=0, grow_policy=None, importance_type=None,\n",
       "             interaction_constraints=None, learning_rate=1, max_bin=None,\n",
       "             max_cat_threshold=None, max_cat_to_onehot=None,\n",
       "             max_delta_step=None, max_depth=25, max_leaves=None,\n",
       "             min_child_weight=1, missing=nan, monotone_constraints=None,\n",
       "             multi_strategy=None, n_estimators=100, n_jobs=-1,\n",
       "             num_parallel_tree=None, random_state=42, ...)</pre><b>In a Jupyter environment, please rerun this cell to show the HTML representation or trust the notebook. <br />On GitHub, the HTML representation is unable to render, please try loading this page with nbviewer.org.</b></div><div class=\"sk-container\" hidden><div class=\"sk-item\"><div class=\"sk-estimator sk-toggleable\"><input class=\"sk-toggleable__control sk-hidden--visually\" id=\"sk-estimator-id-9\" type=\"checkbox\" checked><label for=\"sk-estimator-id-9\" class=\"sk-toggleable__label sk-toggleable__label-arrow\">XGBRegressor</label><div class=\"sk-toggleable__content\"><pre>XGBRegressor(base_score=None, booster=None, callbacks=None,\n",
       "             colsample_bylevel=None, colsample_bynode=None,\n",
       "             colsample_bytree=0.8, device=None, early_stopping_rounds=None,\n",
       "             enable_categorical=False, eval_metric=None, feature_types=None,\n",
       "             gamma=0, grow_policy=None, importance_type=None,\n",
       "             interaction_constraints=None, learning_rate=1, max_bin=None,\n",
       "             max_cat_threshold=None, max_cat_to_onehot=None,\n",
       "             max_delta_step=None, max_depth=25, max_leaves=None,\n",
       "             min_child_weight=1, missing=nan, monotone_constraints=None,\n",
       "             multi_strategy=None, n_estimators=100, n_jobs=-1,\n",
       "             num_parallel_tree=None, random_state=42, ...)</pre></div></div></div></div></div>"
      ],
      "text/plain": [
       "XGBRegressor(base_score=None, booster=None, callbacks=None,\n",
       "             colsample_bylevel=None, colsample_bynode=None,\n",
       "             colsample_bytree=0.8, device=None, early_stopping_rounds=None,\n",
       "             enable_categorical=False, eval_metric=None, feature_types=None,\n",
       "             gamma=0, grow_policy=None, importance_type=None,\n",
       "             interaction_constraints=None, learning_rate=1, max_bin=None,\n",
       "             max_cat_threshold=None, max_cat_to_onehot=None,\n",
       "             max_delta_step=None, max_depth=25, max_leaves=None,\n",
       "             min_child_weight=1, missing=nan, monotone_constraints=None,\n",
       "             multi_strategy=None, n_estimators=100, n_jobs=-1,\n",
       "             num_parallel_tree=None, random_state=42, ...)"
      ]
     },
     "execution_count": 227,
     "metadata": {},
     "output_type": "execute_result"
    }
   ],
   "source": [
    "# Ajuste do modelo, de acordo com as variáveis de treinamento\n",
    "model_parameters_xg.fit(X_train, Y_train)"
   ]
  },
  {
   "cell_type": "markdown",
   "metadata": {},
   "source": [
    "d. Grave os valores preditos em variáveis criadas"
   ]
  },
  {
   "cell_type": "code",
   "execution_count": 228,
   "metadata": {},
   "outputs": [],
   "source": [
    "# Predição dos valores de preço médio dos carros com base nos dados de teste - Random Forest sem parametros\n",
    "predicted_values_rf = model_rf.predict(x_test)"
   ]
  },
  {
   "cell_type": "code",
   "execution_count": 229,
   "metadata": {},
   "outputs": [
    {
     "data": {
      "text/plain": [
       "array([ 42573.49,  12265.41,   8921.81, ..., 192160.98, 154610.26,\n",
       "        70681.81])"
      ]
     },
     "execution_count": 229,
     "metadata": {},
     "output_type": "execute_result"
    }
   ],
   "source": [
    "# valores preditos - Random Forest sem parametros\n",
    "predicted_values_rf"
   ]
  },
  {
   "cell_type": "code",
   "execution_count": 230,
   "metadata": {},
   "outputs": [],
   "source": [
    "# Predição dos valores de preço médio dos carros com base nos dados de teste - Random Forest com parametros\n",
    "predicted_values_parameters_rf = model_rf_paramenters.predict(x_test)"
   ]
  },
  {
   "cell_type": "code",
   "execution_count": 231,
   "metadata": {},
   "outputs": [
    {
     "data": {
      "text/plain": [
       "array([ 45182.8960844 ,  12067.12970563,  15656.70046497, ...,\n",
       "       127791.60742165, 149445.50855705,  73714.11740611])"
      ]
     },
     "execution_count": 231,
     "metadata": {},
     "output_type": "execute_result"
    }
   ],
   "source": [
    "# Valores preditor - Random Forest com parametros\n",
    "predicted_values_parameters_rf"
   ]
  },
  {
   "cell_type": "code",
   "execution_count": 232,
   "metadata": {},
   "outputs": [],
   "source": [
    "# Predição dos valores de preços médios dos carros com base nos dados de teste - XGBoost sem parametros\n",
    "predicted_values_xg = model_xg.predict(x_test)\n"
   ]
  },
  {
   "cell_type": "code",
   "execution_count": 233,
   "metadata": {},
   "outputs": [
    {
     "data": {
      "text/plain": [
       "array([ 44736.773,  11302.926,   9219.962, ..., 166992.3  , 146646.44 ,\n",
       "        71343.64 ], dtype=float32)"
      ]
     },
     "execution_count": 233,
     "metadata": {},
     "output_type": "execute_result"
    }
   ],
   "source": [
    "# Valores preditos - XGBoost sem parametros\n",
    "predicted_values_xg"
   ]
  },
  {
   "cell_type": "code",
   "execution_count": 234,
   "metadata": {},
   "outputs": [],
   "source": [
    "# Predição dos valores de preços médios dos carros com base nos dados de teste - XGBoost com parametros\n",
    "predicted_values_parameters_xg = model_parameters_xg.predict(x_test)"
   ]
  },
  {
   "cell_type": "code",
   "execution_count": 235,
   "metadata": {},
   "outputs": [
    {
     "data": {
      "text/plain": [
       "array([ 46773.715,  12553.754,   9538.406, ..., 191313.84 , 142505.6  ,\n",
       "        72347.945], dtype=float32)"
      ]
     },
     "execution_count": 235,
     "metadata": {},
     "output_type": "execute_result"
    }
   ],
   "source": [
    "# Valores preditos - XGBoost com parametros\n",
    "predicted_values_parameters_xg"
   ]
  },
  {
   "cell_type": "markdown",
   "metadata": {},
   "source": [
    "e. Realize a análise de importância das variáveis para estimar a variável target, para cada modelo treinado"
   ]
  },
  {
   "cell_type": "code",
   "execution_count": 236,
   "metadata": {},
   "outputs": [
    {
     "data": {
      "text/html": [
       "<div>\n",
       "<style scoped>\n",
       "    .dataframe tbody tr th:only-of-type {\n",
       "        vertical-align: middle;\n",
       "    }\n",
       "\n",
       "    .dataframe tbody tr th {\n",
       "        vertical-align: top;\n",
       "    }\n",
       "\n",
       "    .dataframe thead th {\n",
       "        text-align: right;\n",
       "    }\n",
       "</style>\n",
       "<table border=\"1\" class=\"dataframe\">\n",
       "  <thead>\n",
       "    <tr style=\"text-align: right;\">\n",
       "      <th></th>\n",
       "      <th>importances</th>\n",
       "    </tr>\n",
       "  </thead>\n",
       "  <tbody>\n",
       "    <tr>\n",
       "      <th>month_of_reference</th>\n",
       "      <td>0.005211</td>\n",
       "    </tr>\n",
       "    <tr>\n",
       "      <th>year_of_reference</th>\n",
       "      <td>0.012454</td>\n",
       "    </tr>\n",
       "    <tr>\n",
       "      <th>brand</th>\n",
       "      <td>0.017942</td>\n",
       "    </tr>\n",
       "    <tr>\n",
       "      <th>gear</th>\n",
       "      <td>0.031927</td>\n",
       "    </tr>\n",
       "    <tr>\n",
       "      <th>fuel</th>\n",
       "      <td>0.032749</td>\n",
       "    </tr>\n",
       "    <tr>\n",
       "      <th>model</th>\n",
       "      <td>0.057739</td>\n",
       "    </tr>\n",
       "    <tr>\n",
       "      <th>year_model</th>\n",
       "      <td>0.388830</td>\n",
       "    </tr>\n",
       "    <tr>\n",
       "      <th>engine_size</th>\n",
       "      <td>0.453148</td>\n",
       "    </tr>\n",
       "  </tbody>\n",
       "</table>\n",
       "</div>"
      ],
      "text/plain": [
       "                    importances\n",
       "month_of_reference     0.005211\n",
       "year_of_reference      0.012454\n",
       "brand                  0.017942\n",
       "gear                   0.031927\n",
       "fuel                   0.032749\n",
       "model                  0.057739\n",
       "year_model             0.388830\n",
       "engine_size            0.453148"
      ]
     },
     "execution_count": 236,
     "metadata": {},
     "output_type": "execute_result"
    }
   ],
   "source": [
    "# Análise da importancia das variáveis para estimar a variável target - Random Forest sem parametros\n",
    "model_rf.feature_importances_\n",
    "\n",
    "feature_importances_rf = pd.DataFrame(\n",
    "  model_rf.feature_importances_,\n",
    "  index = X_train.columns,\n",
    "  columns = ['importances']\n",
    ").sort_values('importances', ascending=True)\n",
    "\n",
    "feature_importances_rf"
   ]
  },
  {
   "cell_type": "code",
   "execution_count": 237,
   "metadata": {},
   "outputs": [
    {
     "data": {
      "text/html": [
       "<div>\n",
       "<style scoped>\n",
       "    .dataframe tbody tr th:only-of-type {\n",
       "        vertical-align: middle;\n",
       "    }\n",
       "\n",
       "    .dataframe tbody tr th {\n",
       "        vertical-align: top;\n",
       "    }\n",
       "\n",
       "    .dataframe thead th {\n",
       "        text-align: right;\n",
       "    }\n",
       "</style>\n",
       "<table border=\"1\" class=\"dataframe\">\n",
       "  <thead>\n",
       "    <tr style=\"text-align: right;\">\n",
       "      <th></th>\n",
       "      <th>importances</th>\n",
       "    </tr>\n",
       "  </thead>\n",
       "  <tbody>\n",
       "    <tr>\n",
       "      <th>month_of_reference</th>\n",
       "      <td>0.000690</td>\n",
       "    </tr>\n",
       "    <tr>\n",
       "      <th>year_of_reference</th>\n",
       "      <td>0.010383</td>\n",
       "    </tr>\n",
       "    <tr>\n",
       "      <th>brand</th>\n",
       "      <td>0.016098</td>\n",
       "    </tr>\n",
       "    <tr>\n",
       "      <th>gear</th>\n",
       "      <td>0.021959</td>\n",
       "    </tr>\n",
       "    <tr>\n",
       "      <th>fuel</th>\n",
       "      <td>0.034132</td>\n",
       "    </tr>\n",
       "    <tr>\n",
       "      <th>model</th>\n",
       "      <td>0.037028</td>\n",
       "    </tr>\n",
       "    <tr>\n",
       "      <th>year_model</th>\n",
       "      <td>0.410473</td>\n",
       "    </tr>\n",
       "    <tr>\n",
       "      <th>engine_size</th>\n",
       "      <td>0.469236</td>\n",
       "    </tr>\n",
       "  </tbody>\n",
       "</table>\n",
       "</div>"
      ],
      "text/plain": [
       "                    importances\n",
       "month_of_reference     0.000690\n",
       "year_of_reference      0.010383\n",
       "brand                  0.016098\n",
       "gear                   0.021959\n",
       "fuel                   0.034132\n",
       "model                  0.037028\n",
       "year_model             0.410473\n",
       "engine_size            0.469236"
      ]
     },
     "execution_count": 237,
     "metadata": {},
     "output_type": "execute_result"
    }
   ],
   "source": [
    "# Análise da importancia das variáveis para estimar a variável target - Random Forest com parametros\n",
    "model_rf_paramenters.feature_importances_\n",
    "\n",
    "feature_importances_parameters_rf = pd.DataFrame(\n",
    "  model_rf_paramenters.feature_importances_,\n",
    "  index = X_train.columns,\n",
    "  columns = ['importances']\n",
    ").sort_values('importances', ascending=True)\n",
    "\n",
    "feature_importances_parameters_rf"
   ]
  },
  {
   "cell_type": "code",
   "execution_count": 238,
   "metadata": {},
   "outputs": [
    {
     "data": {
      "text/html": [
       "<div>\n",
       "<style scoped>\n",
       "    .dataframe tbody tr th:only-of-type {\n",
       "        vertical-align: middle;\n",
       "    }\n",
       "\n",
       "    .dataframe tbody tr th {\n",
       "        vertical-align: top;\n",
       "    }\n",
       "\n",
       "    .dataframe thead th {\n",
       "        text-align: right;\n",
       "    }\n",
       "</style>\n",
       "<table border=\"1\" class=\"dataframe\">\n",
       "  <thead>\n",
       "    <tr style=\"text-align: right;\">\n",
       "      <th></th>\n",
       "      <th>importances</th>\n",
       "    </tr>\n",
       "  </thead>\n",
       "  <tbody>\n",
       "    <tr>\n",
       "      <th>month_of_reference</th>\n",
       "      <td>0.000690</td>\n",
       "    </tr>\n",
       "    <tr>\n",
       "      <th>year_of_reference</th>\n",
       "      <td>0.010383</td>\n",
       "    </tr>\n",
       "    <tr>\n",
       "      <th>brand</th>\n",
       "      <td>0.016098</td>\n",
       "    </tr>\n",
       "    <tr>\n",
       "      <th>gear</th>\n",
       "      <td>0.021959</td>\n",
       "    </tr>\n",
       "    <tr>\n",
       "      <th>fuel</th>\n",
       "      <td>0.034132</td>\n",
       "    </tr>\n",
       "    <tr>\n",
       "      <th>model</th>\n",
       "      <td>0.037028</td>\n",
       "    </tr>\n",
       "    <tr>\n",
       "      <th>year_model</th>\n",
       "      <td>0.410473</td>\n",
       "    </tr>\n",
       "    <tr>\n",
       "      <th>engine_size</th>\n",
       "      <td>0.469236</td>\n",
       "    </tr>\n",
       "  </tbody>\n",
       "</table>\n",
       "</div>"
      ],
      "text/plain": [
       "                    importances\n",
       "month_of_reference     0.000690\n",
       "year_of_reference      0.010383\n",
       "brand                  0.016098\n",
       "gear                   0.021959\n",
       "fuel                   0.034132\n",
       "model                  0.037028\n",
       "year_model             0.410473\n",
       "engine_size            0.469236"
      ]
     },
     "execution_count": 238,
     "metadata": {},
     "output_type": "execute_result"
    }
   ],
   "source": [
    "# Análise da importancia das variáveis para estimar a variável target - XGBoost com parametros\n",
    "model_parameters_xg.feature_importances_\n",
    "\n",
    "feature_importances_parameters_xg = pd.DataFrame(\n",
    "  model_rf_paramenters.feature_importances_,\n",
    "  index = X_train.columns,\n",
    "  columns = ['importances']\n",
    ").sort_values('importances', ascending=True)\n",
    "\n",
    "feature_importances_parameters_xg"
   ]
  },
  {
   "cell_type": "code",
   "execution_count": 239,
   "metadata": {},
   "outputs": [
    {
     "data": {
      "text/html": [
       "<div>\n",
       "<style scoped>\n",
       "    .dataframe tbody tr th:only-of-type {\n",
       "        vertical-align: middle;\n",
       "    }\n",
       "\n",
       "    .dataframe tbody tr th {\n",
       "        vertical-align: top;\n",
       "    }\n",
       "\n",
       "    .dataframe thead th {\n",
       "        text-align: right;\n",
       "    }\n",
       "</style>\n",
       "<table border=\"1\" class=\"dataframe\">\n",
       "  <thead>\n",
       "    <tr style=\"text-align: right;\">\n",
       "      <th></th>\n",
       "      <th>importances</th>\n",
       "    </tr>\n",
       "  </thead>\n",
       "  <tbody>\n",
       "    <tr>\n",
       "      <th>month_of_reference</th>\n",
       "      <td>0.004271</td>\n",
       "    </tr>\n",
       "    <tr>\n",
       "      <th>year_of_reference</th>\n",
       "      <td>0.017475</td>\n",
       "    </tr>\n",
       "    <tr>\n",
       "      <th>model</th>\n",
       "      <td>0.023331</td>\n",
       "    </tr>\n",
       "    <tr>\n",
       "      <th>brand</th>\n",
       "      <td>0.056276</td>\n",
       "    </tr>\n",
       "    <tr>\n",
       "      <th>gear</th>\n",
       "      <td>0.122657</td>\n",
       "    </tr>\n",
       "    <tr>\n",
       "      <th>fuel</th>\n",
       "      <td>0.154437</td>\n",
       "    </tr>\n",
       "    <tr>\n",
       "      <th>year_model</th>\n",
       "      <td>0.190992</td>\n",
       "    </tr>\n",
       "    <tr>\n",
       "      <th>engine_size</th>\n",
       "      <td>0.430561</td>\n",
       "    </tr>\n",
       "  </tbody>\n",
       "</table>\n",
       "</div>"
      ],
      "text/plain": [
       "                    importances\n",
       "month_of_reference     0.004271\n",
       "year_of_reference      0.017475\n",
       "model                  0.023331\n",
       "brand                  0.056276\n",
       "gear                   0.122657\n",
       "fuel                   0.154437\n",
       "year_model             0.190992\n",
       "engine_size            0.430561"
      ]
     },
     "execution_count": 239,
     "metadata": {},
     "output_type": "execute_result"
    }
   ],
   "source": [
    "# Analisando a importância das variáveis para estimar a variável target - XGBoost sem parametros\n",
    "model_xg.feature_importances_\n",
    "\n",
    "feature_importances_xg = pd.DataFrame(\n",
    "  model_xg.feature_importances_,\n",
    "  index=X_train.columns,\n",
    "  columns=['importances']\n",
    ").sort_values('importances', ascending=True)\n",
    "\n",
    "feature_importances_xg"
   ]
  },
  {
   "cell_type": "markdown",
   "metadata": {},
   "source": [
    "As métricas de avaliação MSE, MAE e R2 para cada modelo"
   ]
  },
  {
   "cell_type": "code",
   "execution_count": 240,
   "metadata": {},
   "outputs": [
    {
     "data": {
      "text/plain": [
       "12142858.8793699"
      ]
     },
     "execution_count": 240,
     "metadata": {},
     "output_type": "execute_result"
    }
   ],
   "source": [
    "# MSE - calcula o erro quadrático médio das predições do modelo\n",
    "# Random Forest sem parametro\n",
    "mse_rf = mean_squared_error(y_test, predicted_values_rf)\n",
    "mse_rf"
   ]
  },
  {
   "cell_type": "code",
   "execution_count": 241,
   "metadata": {},
   "outputs": [
    {
     "data": {
      "text/plain": [
       "1765.253413503062"
      ]
     },
     "execution_count": 241,
     "metadata": {},
     "output_type": "execute_result"
    }
   ],
   "source": [
    "# O MAE calcula a média da diferença absoluta entre o valor predito e o valor real\n",
    "# Random Forest sem parametro\n",
    "mea_rf = mean_absolute_error(y_test, predicted_values_rf)\n",
    "mea_rf"
   ]
  },
  {
   "cell_type": "code",
   "execution_count": 242,
   "metadata": {},
   "outputs": [
    {
     "data": {
      "text/plain": [
       "0.9954740524949698"
      ]
     },
     "execution_count": 242,
     "metadata": {},
     "output_type": "execute_result"
    }
   ],
   "source": [
    "# O R² é uma métrica que varia entre 0 e 1 e é uma razão que indica o quão bom o nosso modelo\n",
    "# Random Forest sem parametros\n",
    "r2_score(y_test, predicted_values_rf)"
   ]
  },
  {
   "cell_type": "code",
   "execution_count": 243,
   "metadata": {},
   "outputs": [
    {
     "data": {
      "text/plain": [
       "151743671.60934204"
      ]
     },
     "execution_count": 243,
     "metadata": {},
     "output_type": "execute_result"
    }
   ],
   "source": [
    "# O MSE - Random Forest com parametros\n",
    "mse_parameters_rf = mean_squared_error(y_test, predicted_values_parameters_rf)\n",
    "mse_parameters_rf"
   ]
  },
  {
   "cell_type": "code",
   "execution_count": 244,
   "metadata": {},
   "outputs": [
    {
     "data": {
      "text/plain": [
       "4577.496498615198"
      ]
     },
     "execution_count": 244,
     "metadata": {},
     "output_type": "execute_result"
    }
   ],
   "source": [
    "# O MAE - Random Forest com parametros\n",
    "mae_parameters_rf = mean_absolute_error(y_test, predicted_values_parameters_rf)\n",
    "mae_parameters_rf"
   ]
  },
  {
   "cell_type": "code",
   "execution_count": 245,
   "metadata": {},
   "outputs": [
    {
     "data": {
      "text/plain": [
       "0.9434413346356811"
      ]
     },
     "execution_count": 245,
     "metadata": {},
     "output_type": "execute_result"
    }
   ],
   "source": [
    "# R2 score - Random Forest com parametros\n",
    "r2_score(y_test, predicted_values_parameters_rf)"
   ]
  },
  {
   "cell_type": "code",
   "execution_count": 246,
   "metadata": {},
   "outputs": [
    {
     "data": {
      "text/plain": [
       "30952404.22945847"
      ]
     },
     "execution_count": 246,
     "metadata": {},
     "output_type": "execute_result"
    }
   ],
   "source": [
    "# MSE - XGBoost sem parametros\n",
    "mse_xg = mean_squared_error(y_test, predicted_values_xg)\n",
    "mse_xg"
   ]
  },
  {
   "cell_type": "code",
   "execution_count": 247,
   "metadata": {},
   "outputs": [
    {
     "data": {
      "text/plain": [
       "3245.310975546176"
      ]
     },
     "execution_count": 247,
     "metadata": {},
     "output_type": "execute_result"
    }
   ],
   "source": [
    "# MAE - XGBoost sem parametros\n",
    "mae_xg = mean_absolute_error(y_test, predicted_values_xg)\n",
    "mae_xg"
   ]
  },
  {
   "cell_type": "code",
   "execution_count": 248,
   "metadata": {},
   "outputs": [
    {
     "data": {
      "text/plain": [
       "0.9884632640394916"
      ]
     },
     "execution_count": 248,
     "metadata": {},
     "output_type": "execute_result"
    }
   ],
   "source": [
    "# R2 score - XGBoost sem parametros\n",
    "r2_score(y_test, predicted_values_xg)"
   ]
  },
  {
   "cell_type": "code",
   "execution_count": 249,
   "metadata": {},
   "outputs": [
    {
     "data": {
      "text/plain": [
       "58122007.144252114"
      ]
     },
     "execution_count": 249,
     "metadata": {},
     "output_type": "execute_result"
    }
   ],
   "source": [
    "# MSE - XGBoost com parametros\n",
    "mse_parameters_xg = mean_squared_error(y_test, predicted_values_parameters_xg)\n",
    "mse_parameters_xg"
   ]
  },
  {
   "cell_type": "code",
   "execution_count": 250,
   "metadata": {},
   "outputs": [
    {
     "data": {
      "text/plain": [
       "3988.8141212105725"
      ]
     },
     "execution_count": 250,
     "metadata": {},
     "output_type": "execute_result"
    }
   ],
   "source": [
    "# MAE - XGBoost com parametros\n",
    "mae_parameters_xg = mean_absolute_error(y_test, predicted_values_parameters_xg)\n",
    "mae_parameters_xg"
   ]
  },
  {
   "cell_type": "code",
   "execution_count": 251,
   "metadata": {},
   "outputs": [
    {
     "data": {
      "text/plain": [
       "0.9783364728327034"
      ]
     },
     "execution_count": 251,
     "metadata": {},
     "output_type": "execute_result"
    }
   ],
   "source": [
    "# R2 score - XGBoost com parametros\n",
    "r2_score(y_test, predicted_values_parameters_xg)"
   ]
  }
 ],
 "metadata": {
  "kernelspec": {
   "display_name": "base",
   "language": "python",
   "name": "python3"
  },
  "language_info": {
   "codemirror_mode": {
    "name": "ipython",
    "version": 3
   },
   "file_extension": ".py",
   "mimetype": "text/x-python",
   "name": "python",
   "nbconvert_exporter": "python",
   "pygments_lexer": "ipython3",
   "version": "3.11.7"
  }
 },
 "nbformat": 4,
 "nbformat_minor": 2
}
